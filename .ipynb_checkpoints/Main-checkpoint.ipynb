{
 "cells": [
  {
   "cell_type": "code",
   "execution_count": 1,
   "metadata": {},
   "outputs": [
    {
     "name": "stderr",
     "output_type": "stream",
     "text": [
      "/home/mohamed/anaconda3/lib/python3.7/site-packages/statsmodels/tools/_testing.py:19: FutureWarning: pandas.util.testing is deprecated. Use the functions in the public API at pandas.testing instead.\n",
      "  import pandas.util.testing as tm\n"
     ]
    }
   ],
   "source": [
    "import numpy as np\n",
    "import matplotlib.pyplot as plt\n",
    "import pandas as pd\n",
    "from utils.pareto_optimal import *\n",
    "from utils.visualization import *\n",
    "import seaborn as sns\n",
    "from utils.dynamic_prog import *"
   ]
  },
  {
   "cell_type": "markdown",
   "metadata": {},
   "source": [
    "# Partie 1 : Résultats préliminaires\n",
    "Dans cette première partie nous avons implémenté et comparé plusieurs méthodes permettant de calculer a partir d'un ensemble d'images de points sur l'espace des objectifs l'ensemble des points efficaces.\n"
   ]
  },
  {
   "cell_type": "markdown",
   "metadata": {},
   "source": [
    "D'abord vérifions l'invalidité de l'hypothèse de Bellman pour le problème étudié.\n",
    "\n",
    "Pour cela il est demandé de trouver un contre-exemple c'est a dire $y_1$, $y_2$, $y'$ tel que $y_1 > y_2$ et $y_1 + y_p < y_2 + y_p$.\n",
    "\n",
    "Etant donné que dans cette partie aucune preuve n'est demandée, et que nous disposons d'un outil fort pratique permettant d'effectuer rapidement des calculs appelé **ordinateur** nous allons générer ce contre exemple en tirant aléatoirement des vecteurs $y_1$, $y_2$, $y'$ pour $\\alpha_{min}$ et $\\alpha_{max}$ fixés.\n",
    "\n",
    "Ainsi nous aurons a la fin notre contre exemple et de plus le temps moyen que ça prendra en tirant des exemples aléatoires de tomber sur un contre exemple nous donnera une indication sur la fréquence de ces contres exemples."
   ]
  },
  {
   "cell_type": "code",
   "execution_count": 19,
   "metadata": {},
   "outputs": [],
   "source": [
    "def f(alpha_min, alpha_max, y):\n",
    "    a = alpha_min*y[0] + (1-alpha_min)*y[1]\n",
    "    b = alpha_max*y[0] + (1-alpha_max)*y[1]\n",
    "    return max(a,b)"
   ]
  },
  {
   "cell_type": "code",
   "execution_count": 34,
   "metadata": {},
   "outputs": [],
   "source": [
    "def test_compare(y1,y2,yp, alpha_min=0.1, alpha_max=0.8):\n",
    "    a = f(alpha_min, alpha_max, y1)\n",
    "    b = f(alpha_min, alpha_max, y2)\n",
    "    comp1 = a>=b\n",
    "    a = f(alpha_min, alpha_max, y1+yp)\n",
    "    b = f(alpha_min, alpha_max, y2+yp)\n",
    "    comp2 = a>=b\n",
    "    return comp1 == comp2\n"
   ]
  },
  {
   "cell_type": "code",
   "execution_count": 35,
   "metadata": {},
   "outputs": [],
   "source": [
    "def run_comp(alpha_min=0.1, alpha_max=0.8, max_iter=100,verbose=True):\n",
    "    for i in range(0,max_iter):\n",
    "        y_1 = np.random.randint(0,100,2)\n",
    "        y_2 = np.random.randint(0,100,2)\n",
    "        y_p = np.random.randint(0,100,2)\n",
    "        if(verbose):\n",
    "            print(\"y_1 = \",y_1,\"f(y_1) = \",f(alpha_min, alpha_max, y_1))\n",
    "            print(\"y_2 = \",y_2, \" f(y_2) = \", f(alpha_min, alpha_max, y_2))\n",
    "            print(\"y_1 + y_p = \",y_1 + y_p,\"f(y_1) = \",f(alpha_min, alpha_max, y_1 + y_p) )\n",
    "            print(\"y_2 + y_p = \",y_2 + y_p,\"f(y_1) = \",f(alpha_min, alpha_max, y_2 + y_p) )\n",
    "        b = test_compare(y_1,y_2,y_p)\n",
    "        if(not b):\n",
    "            break\n",
    "    return i+1\n",
    "    "
   ]
  },
  {
   "cell_type": "code",
   "execution_count": 30,
   "metadata": {},
   "outputs": [
    {
     "name": "stdout",
     "output_type": "stream",
     "text": [
      "y_1 =  [10 30] f(y_1) =  28.0\n",
      "y_2 =  [82 59]  f(y_2) =  77.4\n",
      "y_1 + y_p =  [41 72] f(y_1) =  68.89999999999999\n",
      "y_2 + y_p =  [113 101] f(y_1) =  110.6\n",
      "True\n",
      "y_1 =  [60  5] f(y_1) =  49.0\n",
      "y_2 =  [39 64]  f(y_2) =  61.5\n",
      "y_1 + y_p =  [149  69] f(y_1) =  133.0\n",
      "y_2 + y_p =  [128 128] f(y_1) =  128.0\n",
      "False\n"
     ]
    },
    {
     "data": {
      "text/plain": [
       "2"
      ]
     },
     "execution_count": 30,
     "metadata": {},
     "output_type": "execute_result"
    }
   ],
   "source": [
    "run_comp()"
   ]
  },
  {
   "cell_type": "markdown",
   "metadata": {},
   "source": [
    "Voila notre contre exemple, a présent par curiosité jetons un oeil au nombre moyen d'itération que ça prend pour en trouver un en tirant des vecteurs aléatoires."
   ]
  },
  {
   "cell_type": "code",
   "execution_count": 52,
   "metadata": {},
   "outputs": [],
   "source": [
    "l = []\n",
    "for i in range(10000):\n",
    "    l.append(run_comp(verbose=False))"
   ]
  },
  {
   "cell_type": "code",
   "execution_count": 53,
   "metadata": {},
   "outputs": [
    {
     "name": "stdout",
     "output_type": "stream",
     "text": [
      "9.1239\n"
     ]
    }
   ],
   "source": [
    "L = np.array(l)\n",
    "print(L.mean())"
   ]
  },
  {
   "cell_type": "markdown",
   "metadata": {},
   "source": [
    "Donc en moyenne ça prend 9 itérations de l'algorithme précédent pour trouver un contre exemple ce qui indique qu'il y a beaucoup de contre exemples."
   ]
  },
  {
   "cell_type": "markdown",
   "metadata": {},
   "source": [
    "## Génération des points\n",
    "\n",
    "Pour commencer il s'agira d'abord de disposer d'un moyen simple de générer un nombre arbitraire de points dans l'espace des objectifs, pour se faire nous nous sommes appuyés sur la librarie numpy pour la génération des points et sur matplotlib pour les afficher.\n",
    "\n",
    "Voici un nuage de points correspondant a 100 points tirés avec une moyenne de $1000$ et une variance de $\\frac{1000}{3}$"
   ]
  },
  {
   "cell_type": "code",
   "execution_count": 2,
   "metadata": {},
   "outputs": [
    {
     "data": {
      "text/plain": [
       "<matplotlib.collections.PathCollection at 0x7fd379111110>"
      ]
     },
     "execution_count": 2,
     "metadata": {},
     "output_type": "execute_result"
    },
    {
     "data": {
      "image/png": "[encoded data removed]",
      "text/plain": [
       "<Figure size 432x288 with 1 Axes>"
      ]
     },
     "metadata": {
      "needs_background": "light"
     },
     "output_type": "display_data"
    }
   ],
   "source": [
    "v = tirer(1000,100)\n",
    "plt.scatter(v[:,0],v[:,1])"
   ]
  },
  {
   "cell_type": "markdown",
   "metadata": {},
   "source": [
    "## Implémentation des algorithmes de determination des points efficaces\n",
    "\n",
    "### Une approche (très) naive : \n",
    "La première approche a laquelle nous allons recourir consiste a déterminer pour chaque élément si il existe un élément le dominant sur les deux critères systématiquement.\n",
    "Pour le faire sans utiliser de doubles boucles on va encore une fois s'appuyer sur les tableaux numpy, et ainsi pour chaque vecteur de coût *c* il suffit de vérifier : \n",
    "```\n",
    "np.all(np.any(cout[:i]>c, axis=1)) et np.all(np.any(cout[i+1:]>c, axis=1))) \n",
    "```\n",
    "ce qui coûte de passer par tout les autres coûts a chaque fois.\n"
   ]
  },
  {
   "cell_type": "markdown",
   "metadata": {},
   "source": [
    "Dans la cellule suivante nous allons afficher le résultat de la procédure sur le nuage de points précédent : "
   ]
  },
  {
   "cell_type": "code",
   "execution_count": 3,
   "metadata": {},
   "outputs": [
    {
     "data": {
      "image/png": "[encoded data removed]",
      "text/plain": [
       "<Figure size 432x288 with 1 Axes>"
      ]
     },
     "metadata": {
      "needs_background": "light"
     },
     "output_type": "display_data"
    }
   ],
   "source": [
    "front = pareto_optimal_naif(v)\n",
    "plot_front(v,front)"
   ]
  },
  {
   "cell_type": "markdown",
   "metadata": {},
   "source": [
    "## Une approche un peu moins naive : \n",
    "La deuxième idée que l'on a eu consiste cette fois a éviter de ne tester chaque nouvel élément que avec les points non dominés jusque la, ceci se fait en maintenant un \"masque\" qui est un vecteur booléen ou chaque case a pour valeur Vrai si l'élément est efficace, initialement tous les éléments sont efficaces puis on met a jour un élément efficace de coût c comme avec la valeur suivante : \n",
    "```\n",
    "np.any(couts[Efficace]<c, axis=1)\n",
    "```"
   ]
  },
  {
   "cell_type": "markdown",
   "metadata": {},
   "source": [
    "## Utiliser un tri \n",
    "Dans cet algorithme nous avons combiné un tri avec un parcours unique afin de générer l'ensemble de points efficaces, l'idée étant que dans la mesure ou le premier objectif progresse dans un ordre croissant, en maintenant la valeur minimale du deuxième objectif a chaque fois qu'on croise un élément dont le deuxième objectif est plus grand que le minimum on peut le retirer."
   ]
  },
  {
   "cell_type": "markdown",
   "metadata": {},
   "source": [
    "## Combiner un tri avec une aggrégation\n",
    "Enfin la dernière astuce que nous avons considérés consiste simplement a trier les éléments du tableau en fonction de la somme des deux composantes avant de les donner a l'algorithme 2.\n",
    "Cette astuce a été guidée par le fait que les opérations matricielles sont hautement paralélisables sur Numpy et donc assez efficaces."
   ]
  },
  {
   "cell_type": "markdown",
   "metadata": {},
   "source": [
    "# Test de fonctionnement\n",
    "Afin de vérifier le fonctionnement de tous les algorithmes implémentés nous avons préparé un test unitaire, ce test consiste a charger automatiquement toutes les fonctions contenant dans leur nom de le mot \"pareto\" puis les exécuter sur le même nuage de 5000 points puis a comparer les retours des fonctions deux a deux."
   ]
  },
  {
   "cell_type": "code",
   "execution_count": 4,
   "metadata": {},
   "outputs": [
    {
     "name": "stdout",
     "output_type": "stream",
     "text": [
      "Checking if pareto_front_sorted and pareto_front_sorted_ameliore gave the same \n",
      "✅\n",
      "Checking if pareto_front_sorted and pareto_optimal_MO gave the same \n",
      "✅\n",
      "Checking if pareto_front_sorted and pareto_optimal_ameliore gave the same \n",
      "✅\n",
      "Checking if pareto_front_sorted and pareto_optimal_naif gave the same \n",
      "✅\n",
      "Checking if pareto_front_sorted_ameliore and pareto_optimal_MO gave the same \n",
      "✅\n",
      "Checking if pareto_front_sorted_ameliore and pareto_optimal_ameliore gave the same \n",
      "✅\n",
      "Checking if pareto_front_sorted_ameliore and pareto_optimal_naif gave the same \n",
      "✅\n",
      "Checking if pareto_optimal_MO and pareto_optimal_ameliore gave the same \n",
      "✅\n",
      "Checking if pareto_optimal_MO and pareto_optimal_naif gave the same \n",
      "✅\n",
      "Checking if pareto_optimal_ameliore and pareto_optimal_naif gave the same \n",
      "✅\n",
      ".Testing for k = 1, n = 3\n",
      "✅\n",
      "Testing for k = 2, n = 3\n",
      "✅\n",
      "Testing for k = 1, n = 4\n",
      "✅\n",
      "Testing for k = 2, n = 4\n",
      "✅\n",
      "Testing for k = 3, n = 4\n",
      "✅\n",
      "Testing for k = 1, n = 5\n",
      "✅\n",
      "Testing for k = 2, n = 5\n",
      "✅\n",
      "Testing for k = 3, n = 5\n",
      "✅\n",
      "Testing for k = 4, n = 5\n",
      "✅\n",
      "Testing for k = 1, n = 6\n",
      "✅\n",
      "Testing for k = 2, n = 6\n",
      "✅\n",
      "Testing for k = 3, n = 6\n",
      "✅\n",
      "Testing for k = 4, n = 6\n",
      "✅\n",
      "Testing for k = 5, n = 6\n",
      "✅\n",
      "Testing for k = 1, n = 7\n",
      "✅\n",
      "Testing for k = 2, n = 7\n",
      "✅\n",
      "Testing for k = 3, n = 7\n",
      "✅\n",
      "Testing for k = 4, n = 7\n",
      "✅\n",
      "Testing for k = 5, n = 7\n",
      "✅\n",
      "Testing for k = 6, n = 7\n",
      "✅\n",
      "Testing for k = 1, n = 8\n",
      "✅\n",
      "Testing for k = 2, n = 8\n",
      "✅\n",
      "Testing for k = 3, n = 8\n",
      "✅\n",
      "Testing for k = 4, n = 8\n",
      "✅\n",
      "Testing for k = 5, n = 8\n",
      "✅\n",
      "Testing for k = 6, n = 8\n",
      "✅\n",
      "Testing for k = 7, n = 8\n",
      "✅\n",
      "Testing for k = 1, n = 9\n",
      "✅\n",
      "Testing for k = 2, n = 9\n",
      "✅\n",
      "Testing for k = 3, n = 9\n",
      "✅\n",
      "Testing for k = 4, n = 9\n",
      "✅\n",
      "Testing for k = 5, n = 9\n",
      "✅\n",
      "Testing for k = 6, n = 9\n",
      "✅\n",
      "Testing for k = 7, n = 9\n",
      "✅\n",
      "Testing for k = 8, n = 9\n",
      "✅\n",
      "Testing for k = 1, n = 10\n",
      "✅\n",
      "Testing for k = 2, n = 10\n",
      "✅\n",
      "Testing for k = 3, n = 10\n",
      "✅\n",
      "Testing for k = 4, n = 10\n",
      "✅\n",
      "Testing for k = 5, n = 10\n",
      "✅\n",
      "Testing for k = 6, n = 10\n",
      "✅\n",
      "Testing for k = 7, n = 10\n",
      "✅\n",
      "Testing for k = 8, n = 10\n",
      "✅\n",
      "Testing for k = 9, n = 10\n",
      "✅\n",
      "Testing for k = 1, n = 11\n",
      "✅\n",
      "Testing for k = 2, n = 11\n",
      "✅\n",
      "Testing for k = 3, n = 11\n",
      "✅\n",
      "Testing for k = 4, n = 11\n",
      "✅\n",
      "Testing for k = 5, n = 11\n",
      "✅\n",
      "Testing for k = 6, n = 11\n",
      "✅\n",
      "Testing for k = 7, n = 11\n",
      "✅\n",
      "Testing for k = 8, n = 11\n",
      "✅\n",
      "Testing for k = 9, n = 11\n",
      "✅\n",
      "Testing for k = 10, n = 11\n",
      "✅\n",
      "Testing for k = 1, n = 12\n",
      "✅\n",
      "Testing for k = 2, n = 12\n",
      "✅\n",
      "Testing for k = 3, n = 12\n",
      "✅\n",
      "Testing for k = 4, n = 12\n",
      "✅\n",
      "Testing for k = 5, n = 12\n",
      "✅\n",
      "Testing for k = 6, n = 12\n",
      "✅\n",
      "Testing for k = 7, n = 12\n",
      "✅\n",
      "Testing for k = 8, n = 12\n",
      "✅\n",
      "Testing for k = 9, n = 12\n",
      "✅\n",
      "Testing for k = 10, n = 12\n",
      "✅\n",
      "Testing for k = 11, n = 12\n",
      "✅\n",
      "Testing for k = 1, n = 13\n",
      "✅\n",
      "Testing for k = 2, n = 13\n",
      "✅\n",
      "Testing for k = 3, n = 13\n",
      "✅\n",
      "Testing for k = 4, n = 13\n",
      "✅\n",
      "Testing for k = 5, n = 13\n",
      "✅\n",
      "Testing for k = 6, n = 13\n",
      "✅\n",
      "Testing for k = 7, n = 13\n",
      "✅\n",
      "Testing for k = 8, n = 13\n",
      "✅\n",
      "Testing for k = 9, n = 13\n",
      "✅\n",
      "Testing for k = 10, n = 13\n",
      "✅\n",
      "Testing for k = 11, n = 13\n",
      "✅\n",
      "Testing for k = 12, n = 13\n",
      "✅\n",
      ".\n",
      "----------------------------------------------------------------------\n",
      "Ran 2 tests in 3.864s\n",
      "\n",
      "OK\n"
     ]
    }
   ],
   "source": [
    "!python utils/te.py"
   ]
  },
  {
   "cell_type": "markdown",
   "metadata": {},
   "source": [
    "# Test de performances\n",
    "Dans cette partie nous avons comparés les temps d'éxécution des différents algorithmes, le protocole adopté pour mesurer l'évolution de la complexité en fonction du nombre de point consiste a exécuter les algorithmes sur des ensembles de points générés aléatoirement puis a mesurer le temps d'exécution observé.\n",
    "\n",
    "Pour chaque nombre de points entre 100 et 10000 l'expérience a été répétée 50 fois, la courbe foncée représente la moyenne pour chaque taille et l'espace claire délimite l'intervalle de confiance."
   ]
  },
  {
   "cell_type": "code",
   "execution_count": 5,
   "metadata": {},
   "outputs": [
    {
     "data": {
      "text/plain": [
       "<matplotlib.axes._subplots.AxesSubplot at 0x7fd3787863d0>"
      ]
     },
     "execution_count": 5,
     "metadata": {},
     "output_type": "execute_result"
    },
    {
     "data": {
      "image/png": "[encoded data removed]",
      "text/plain": [
       "<Figure size 432x288 with 1 Axes>"
      ]
     },
     "metadata": {
      "needs_background": "light"
     },
     "output_type": "display_data"
    }
   ],
   "source": [
    "conc = []\n",
    "for func in [pareto_front_sorted, pareto_optimal_ameliore, pareto_optimal_naif, pareto_front_sorted_ameliore]:\n",
    "    Logs = stress_test_conf(func, lower_born= 100, upper_born=10000, step = 250, loc=1000, nb_trys = 50)\n",
    "    df = pd.DataFrame(Logs)\n",
    "    arr = np.array(df)\n",
    "    conc = conc + list(arr)\n",
    "conc = np.array(conc)\n",
    "logs = pd.DataFrame(conc)\n",
    "logs.columns  = [\"Size\", \"Time\", \"Function\"]\n",
    "logs.Size = logs.Size.astype('float64')\n",
    "logs.Time = logs.Time.astype('float64')\n",
    "sns.lineplot(x=\"Size\", y=\"Time\", hue=\"Function\",data=logs)\n"
   ]
  },
  {
   "cell_type": "markdown",
   "metadata": {},
   "source": [
    "Première chose qu'on constate, la différence de complexité entre l'approche naive et les autres approches,\n",
    "Pour bien se rendre compte de cette différence on peut faire passer le graphique a l'échelle log-log."
   ]
  },
  {
   "cell_type": "code",
   "execution_count": 6,
   "metadata": {},
   "outputs": [],
   "source": [
    "logs_echelle_log = logs"
   ]
  },
  {
   "cell_type": "code",
   "execution_count": 7,
   "metadata": {},
   "outputs": [],
   "source": [
    "logs_echelle_log[\"Time\"] = logs_echelle_log[\"Time\"].apply(np.log)\n",
    "logs_echelle_log[\"Size\"] = logs_echelle_log[\"Size\"].apply(np.log)\n"
   ]
  },
  {
   "cell_type": "code",
   "execution_count": 8,
   "metadata": {},
   "outputs": [
    {
     "data": {
      "text/plain": [
       "<matplotlib.axes._subplots.AxesSubplot at 0x7fd3784ea990>"
      ]
     },
     "execution_count": 8,
     "metadata": {},
     "output_type": "execute_result"
    },
    {
     "data": {
      "image/png": "[encoded data removed]",
      "text/plain": [
       "<Figure size 432x288 with 1 Axes>"
      ]
     },
     "metadata": {
      "needs_background": "light"
     },
     "output_type": "display_data"
    }
   ],
   "source": [
    "sns.lineplot(x=\"Size\", y=\"Time\", hue=\"Function\",data=logs_echelle_log)"
   ]
  },
  {
   "cell_type": "markdown",
   "metadata": {},
   "source": [
    "On remarque aisément la différence prononcée de pente entre l'approche naive et le reste des approche qui sont plus distinguables en utilisant cette echelle.\n",
    "On peut d'ailleurs effectuer une regression linéaire sur cette echelle pour déterminer de façon approchée la complexité de chaque approche.\n"
   ]
  },
  {
   "cell_type": "code",
   "execution_count": 9,
   "metadata": {},
   "outputs": [],
   "source": [
    "def fit_pol_func(func_name):\n",
    "    df = logs_echelle_log[logs_echelle_log[\"Function\"]==func_name]\n",
    "    y = np.array(df[\"Time\"])\n",
    "    x = np.array(df[\"Size\"])\n",
    "    v = np.polyfit(x, y, 1)\n",
    "    return v"
   ]
  },
  {
   "cell_type": "code",
   "execution_count": 10,
   "metadata": {},
   "outputs": [
    {
     "name": "stdout",
     "output_type": "stream",
     "text": [
      "Fonction name :  pareto_front_sorted\n",
      "Complexité : 3643*X^0.85\n",
      "Fonction name :  pareto_optimal_ameliore\n",
      "Complexité : 3054*X^0.79\n",
      "Fonction name :  pareto_optimal_naif\n",
      "Complexité : 679*X^1.59\n",
      "Fonction name :  pareto_front_sorted_ameliore\n",
      "Complexité : 1974*X^0.78\n"
     ]
    }
   ],
   "source": [
    "for func in [pareto_front_sorted, pareto_optimal_ameliore, pareto_optimal_naif, pareto_front_sorted_ameliore]:\n",
    "    print(\"Fonction name : \",func.__name__)\n",
    "    v = fit_pol_func(func.__name__)\n",
    "    print(\"Complexité : {:.0f}*X^{:.2f}\".format(np.exp(v[1]) , v[0]))"
   ]
  },
  {
   "cell_type": "markdown",
   "metadata": {},
   "source": [
    "A partir de la formule $log(t) \\approx A log(x) + B$ nous pouvons déduire en repassant a l'echelle polynomiale : $t \\approx exp(B)*X^A$\n",
    "Donc on peut déduire les complexités suivantes : \n",
    "- **Algorithme naif** : $818*x^{1.58} = O(x²)$\n",
    "- **Algorithme naif amélioré** : $3584*x^{0.78} = O(x)$\n",
    "- **Algorithme avec Tri** : $1765*x^{0.94} = O(x)$\n",
    "- **Algorithme avec Tri des valeurs aggrégées** : $1901*x^{0.82} = O(x)$"
   ]
  },
  {
   "cell_type": "markdown",
   "metadata": {},
   "source": [
    "# Partie 2 : Procédure de résolution par programmation dynamique"
   ]
  },
  {
   "cell_type": "markdown",
   "metadata": {},
   "source": [
    "## implémentation\n",
    "\n",
    "Afin de faciliter l'implémentation et la relecture de notre approche basée sur la programmation dynamique nous allons utiliser un paradigme orienté objet qui nous conduira a définir deux classes : \n",
    "\n",
    "- **Bag** Qui représente un sac a dos et qui permet par l'opérateur \"+\" de faire l'union de deux sacs a dos.\n",
    "\n",
    "- **Cell** Qui représente une cellule de notre tableau de programmation dynamique et qui contiendra a chaque fois les sacs non dominés qui résolvent un sous-problème de notre problème, cette classe est dotée d'une méthode permettant d'ajouter un objet a tous les sacs de la cellule, un opérateur \"+\" qui fait l'union des ensembles de sac a dos de deux cellules et la fonction \"apply_pf\" qui permet de retirer les sac a dos dominés au sens de pareto"
   ]
  },
  {
   "cell_type": "code",
   "execution_count": 76,
   "metadata": {},
   "outputs": [],
   "source": [
    "n = 10\n",
    "k = 5\n",
    "get_random_bag = lambda  : np.random.randint(0,2,(n,1))\n",
    "get_cost = lambda x,c : (c@x).T.flatten()\n",
    "\n",
    "def get_cost_item_ids(xs,c):\n",
    "    v= np.zeros((n,1))\n",
    "    for x in xs:\n",
    "        v[x-1] = 1\n",
    "    return (v,c@v.reshape((-1)))\n",
    "def get_cost_item_msq(v,c):\n",
    "    return c@v.reshape((-1))\n",
    "    \n",
    "def print_table(prog_table):\n",
    "    for i in range(k+1):\n",
    "        for j in range(n+1):\n",
    "            print(f\"[{i}, {j}] : \",prog_table[i][j])\n",
    "\n",
    "def pf(costs):\n",
    "    or_costs = costs\n",
    "    is_efficient = np.arange(costs.shape[0])\n",
    "    n_points = costs.shape[0]\n",
    "    next_point_index = 0\n",
    "    while next_point_index<len(costs):\n",
    "        nondominated_point_mask = np.any(costs<costs[next_point_index], axis=1)\n",
    "        nondominated_point_mask[next_point_index] = True\n",
    "        is_efficient = is_efficient[nondominated_point_mask]\n",
    "        costs = costs[nondominated_point_mask]\n",
    "        next_point_index = np.sum(nondominated_point_mask[:next_point_index])+1\n",
    "    is_efficient_mask = np.zeros(n_points, dtype = bool)\n",
    "    is_efficient_mask[is_efficient] = True\n",
    "    return is_efficient+1,is_efficient_mask,  or_costs[is_efficient_mask, :]\n",
    "\n",
    "class Bag():\n",
    "\n",
    "    def __init__(self,ids=[]):\n",
    "        self.cost = (0,0)\n",
    "        self.ids = []\n",
    "        self.msq = np.zeros(n)\n",
    "        self.set_ids(ids)\n",
    "    \n",
    "    def set_ids(self, ids):\n",
    "        ids = sorted(ids)\n",
    "        v,m = get_cost_item_ids(ids,c)\n",
    "        self.cost = m\n",
    "        self.msq = v\n",
    "        self.ids = ids\n",
    "    \n",
    "    def add_item(self,id):\n",
    "        L = list(self.ids)\n",
    "        if not id in self.ids:\n",
    "            L.append(id)\n",
    "        self.ids = np.array(L)\n",
    "        self.set_ids(self.ids)\n",
    "\n",
    "\n",
    "    def __str__(self):\n",
    "        return f\"{self.ids} : {self.cost}\"\n",
    "\n",
    "    def set_msq(self,msq):\n",
    "        self.ids = np.where(msq == 1)[0] + 1\n",
    "        self.set_ids(self.ids)\n",
    "    \n",
    "    def __add__(self,b2):\n",
    "        s = Bag([])\n",
    "        id_u = list(self.ids) + list(b2.ids)\n",
    "        id_u = set(id_u)\n",
    "        id_u = list(id_u)\n",
    "        s.set_ids(id_u)\n",
    "        return s"
   ]
  },
  {
   "cell_type": "code",
   "execution_count": 83,
   "metadata": {},
   "outputs": [],
   "source": [
    "import copy\n",
    "class Cell():\n",
    "    def __init__(self):\n",
    "        self.bags = []\n",
    "        self.costs = []\n",
    "\n",
    "    def add_bag(self, bag):\n",
    "        bg = copy.deepcopy(bag)\n",
    "        self.bags.append(bg)\n",
    "        L = list(self.costs)\n",
    "        L.append(bg.cost)\n",
    "        self.costs = np.array(L) \n",
    "    \n",
    "    def set_bag(self, bag):\n",
    "        self.bags = []\n",
    "        self.bags.append(bag)\n",
    "        L = []\n",
    "        L.append(bag.cost)\n",
    "        self.costs = np.array(L)\n",
    "    \n",
    "    def __copy__(self):\n",
    "        c = Cell()\n",
    "        c.costs = np.copy(self.costs)\n",
    "        c.bags = list(self.bags)\n",
    "    \n",
    "    def __getitem__(self,key):\n",
    "        return self.bags[key]\n",
    "    \n",
    "    def apply_pf(self):\n",
    "        costs = np.array(self.costs)\n",
    "        ids,msq ,c  = (pf(costs))\n",
    "        self.bags = np.array(self.bags)[ids-1]\n",
    "        self.costs = c\n",
    "    \n",
    "    def add_item_to_all(self,index):\n",
    "        for b in self.bags:\n",
    "            b.add_item(index)\n",
    "        \n",
    "    \n",
    "    def __add__(self,cell):\n",
    "        C = Cell()\n",
    "        for b in cell.bags:\n",
    "            C.add_bag(b)\n",
    "        for b in self.bags:\n",
    "            C.add_bag(b)\n",
    "        return C\n",
    "\n",
    "    \n",
    "    def __str__(self):\n",
    "        return \"content : \" + \"\\t\".join([str(b) for b in self.bags])"
   ]
  },
  {
   "cell_type": "markdown",
   "metadata": {},
   "source": [
    "Par la suite nous construisons un tableau avec k lignes et n colonnes ou chaque case T(i,j) représente une cellule contenant les sac a dos non dominés contenant j objets séléctionnés a partir des i premiers objets disponibles"
   ]
  },
  {
   "cell_type": "code",
   "execution_count": 13,
   "metadata": {},
   "outputs": [],
   "source": [
    "prog_table = [[ (Cell()) for x in range(n + 1)] for x in range(k + 1)]"
   ]
  },
  {
   "cell_type": "markdown",
   "metadata": {},
   "source": [
    "Pour l'initialisation des cas de bases il y a deux remarques qu'on peut se faire : \n",
    "- Pour les cases de la diagonale $\\forall i \\in \\mathcal{N}, i < k$ T(i,i) contient tout les i premiers objets.\n",
    "- Pour les cases de la première ligne qui représentent les sac a dos a un objet on rempli chaque case par des sacs a dos contenant chacun un objet non dominé dans la liste des i premiers objets."
   ]
  },
  {
   "cell_type": "code",
   "execution_count": 14,
   "metadata": {},
   "outputs": [],
   "source": [
    "c = get_random_cost(n)\n",
    "obj = np.arange(1,n+1)\n",
    "for i in range(1,n+1):\n",
    "    bag = (pf(c.T[obj[:i] - 1])[0])\n",
    "    for b in bag:\n",
    "        B = Bag([b])\n",
    "        prog_table[1][i].add_bag(B)"
   ]
  },
  {
   "cell_type": "code",
   "execution_count": 15,
   "metadata": {},
   "outputs": [],
   "source": [
    "for i in range(1,k+1):\n",
    "    b= Bag(obj[:i])\n",
    "    prog_table[i][i].set_bag(b)"
   ]
  },
  {
   "cell_type": "markdown",
   "metadata": {},
   "source": [
    "Ensuite pour la règle de récurrence, intuitivement afin de séléctionner i objets parmi tous les objets jusqu'au kème on a deux choix : \n",
    "- Soit on prend un sac a dos de i-1 objets sans l'objet k et on lui ajoute l'objet k\n",
    "- Soit on prend un sac a dos de i objets sans l'objet k\n",
    "En faisant l'union des deux ensembles ce qui est rendu facile grâce aux opérateurs qu'on a défini sur nos structures puis en concervant les ensembles non pareto dominés on obtient le contenu de la case T(i,j), la règle se réecrit donc  : \n",
    "$$ P(i,j) = OPT( P(i-1,j-1) + f(j) \\cup P(i,j-1) )$$"
   ]
  },
  {
   "cell_type": "code",
   "execution_count": 16,
   "metadata": {},
   "outputs": [
    {
     "name": "stdout",
     "output_type": "stream",
     "text": [
      "\n",
      "[2,3] :  content : [1, 3] : [103. 206.]\t[1, 2] : [  6. 225.]\n",
      "\n",
      "[2,4] :  content : [1, 4] : [  7. 139.]\t[2, 4] : [  3. 194.]\n",
      "\n",
      "[2,5] :  content : [1, 4] : [  7. 139.]\t[2, 4] : [  3. 194.]\n",
      "\n",
      "[2,6] :  content : [4, 6] : [51. 69.]\t[1, 4] : [  7. 139.]\t[2, 4] : [  3. 194.]\n",
      "\n",
      "[2,7] :  content : [4, 7] : [34. 73.]\t[6, 7] : [81. 34.]\t[4, 6] : [51. 69.]\t[1, 4] : [  7. 139.]\t[2, 4] : [  3. 194.]\n",
      "\n",
      "[2,8] :  content : [4, 7] : [34. 73.]\t[6, 7] : [81. 34.]\t[4, 6] : [51. 69.]\t[1, 4] : [  7. 139.]\t[2, 4] : [  3. 194.]\n",
      "\n",
      "[2,9] :  content : [4, 7] : [34. 73.]\t[6, 7] : [81. 34.]\t[4, 6] : [51. 69.]\t[1, 4] : [  7. 139.]\t[2, 4] : [  3. 194.]\n",
      "\n",
      "[2,10] :  content : [4, 10] : [31. 62.]\t[6, 10] : [78. 23.]\t[7, 10] : [61. 27.]\t[1, 4] : [  7. 139.]\t[2, 4] : [  3. 194.]\n",
      "\n",
      "[3,3] :  content : [1, 2, 3] : [104. 346.]\n",
      "\n",
      "[3,4] :  content : [1, 3, 4] : [105. 260.]\t[1, 2, 4] : [  8. 279.]\n",
      "\n",
      "[3,5] :  content : [2, 4, 5] : [  6. 342.]\t[1, 3, 4] : [105. 260.]\t[1, 2, 4] : [  8. 279.]\n",
      "\n",
      "[3,6] :  content : [1, 4, 6] : [ 56. 154.]\t[2, 4, 6] : [ 52. 209.]\t[2, 4, 5] : [  6. 342.]\t[1, 2, 4] : [  8. 279.]\n",
      "\n",
      "[3,7] :  content : [4, 6, 7] : [83. 88.]\t[1, 4, 7] : [ 39. 158.]\t[2, 4, 7] : [ 35. 213.]\t[1, 4, 6] : [ 56. 154.]\t[2, 4, 5] : [  6. 342.]\t[1, 2, 4] : [  8. 279.]\n",
      "\n",
      "[3,8] :  content : [6, 7, 8] : [223.  57.]\t[4, 6, 7] : [83. 88.]\t[1, 4, 7] : [ 39. 158.]\t[2, 4, 7] : [ 35. 213.]\t[1, 4, 6] : [ 56. 154.]\t[2, 4, 5] : [  6. 342.]\t[1, 2, 4] : [  8. 279.]\n",
      "\n",
      "[3,9] :  content : [6, 7, 8] : [223.  57.]\t[4, 6, 7] : [83. 88.]\t[1, 4, 7] : [ 39. 158.]\t[2, 4, 7] : [ 35. 213.]\t[1, 4, 6] : [ 56. 154.]\t[2, 4, 5] : [  6. 342.]\t[1, 2, 4] : [  8. 279.]\n",
      "\n",
      "[3,10] :  content : [4, 7, 10] : [63. 81.]\t[6, 7, 10] : [110.  42.]\t[4, 6, 10] : [80. 77.]\t[1, 4, 10] : [ 36. 147.]\t[2, 4, 10] : [ 32. 202.]\t[2, 4, 5] : [  6. 342.]\t[1, 2, 4] : [  8. 279.]\n",
      "\n",
      "[4,4] :  content : [1, 2, 3, 4] : [106. 400.]\n",
      "\n",
      "[4,5] :  content : [1, 2, 4, 5] : [ 11. 427.]\t[1, 2, 3, 4] : [106. 400.]\n",
      "\n",
      "[4,6] :  content : [2, 4, 5, 6] : [ 55. 357.]\t[1, 3, 4, 6] : [154. 275.]\t[1, 2, 4, 6] : [ 57. 294.]\t[1, 2, 4, 5] : [ 11. 427.]\n",
      "\n",
      "[4,7] :  content : [1, 4, 6, 7] : [ 88. 173.]\t[2, 4, 6, 7] : [ 84. 228.]\t[2, 4, 5, 7] : [ 38. 361.]\t[1, 2, 4, 7] : [ 40. 298.]\t[1, 2, 4, 6] : [ 57. 294.]\t[1, 2, 4, 5] : [ 11. 427.]\n",
      "\n",
      "[4,8] :  content : [4, 6, 7, 8] : [225. 111.]\t[1, 4, 6, 7] : [ 88. 173.]\t[2, 4, 6, 7] : [ 84. 228.]\t[2, 4, 5, 7] : [ 38. 361.]\t[1, 2, 4, 7] : [ 40. 298.]\t[1, 2, 4, 6] : [ 57. 294.]\t[1, 2, 4, 5] : [ 11. 427.]\n",
      "\n",
      "[4,9] :  content : [6, 7, 8, 9] : [389. 104.]\t[4, 6, 7, 8] : [225. 111.]\t[1, 4, 6, 7] : [ 88. 173.]\t[2, 4, 6, 7] : [ 84. 228.]\t[2, 4, 5, 7] : [ 38. 361.]\t[1, 2, 4, 7] : [ 40. 298.]\t[1, 2, 4, 6] : [ 57. 294.]\t[1, 2, 4, 5] : [ 11. 427.]\n",
      "\n",
      "[4,10] :  content : [6, 7, 8, 10] : [252.  65.]\t[4, 6, 7, 10] : [112.  96.]\t[1, 4, 7, 10] : [ 68. 166.]\t[2, 4, 7, 10] : [ 64. 221.]\t[1, 4, 6, 10] : [ 85. 162.]\t[2, 4, 5, 10] : [ 35. 350.]\t[1, 2, 4, 10] : [ 37. 287.]\t[1, 2, 4, 5] : [ 11. 427.]\n",
      "\n",
      "[5,5] :  content : [1, 2, 3, 4, 5] : [109. 548.]\n",
      "\n",
      "[5,6] :  content : [1, 2, 4, 5, 6] : [ 60. 442.]\t[1, 2, 3, 4, 6] : [155. 415.]\n",
      "\n",
      "[5,7] :  content : [2, 4, 5, 6, 7] : [ 87. 376.]\t[1, 3, 4, 6, 7] : [186. 294.]\t[1, 2, 4, 6, 7] : [ 89. 313.]\t[1, 2, 4, 5, 7] : [ 43. 446.]\t[1, 2, 4, 5, 6] : [ 60. 442.]\n",
      "\n",
      "[5,8] :  content : [1, 4, 6, 7, 8] : [230. 196.]\t[2, 4, 6, 7, 8] : [226. 251.]\t[2, 4, 5, 6, 7] : [ 87. 376.]\t[1, 3, 4, 6, 7] : [186. 294.]\t[1, 2, 4, 6, 7] : [ 89. 313.]\t[1, 2, 4, 5, 7] : [ 43. 446.]\t[1, 2, 4, 5, 6] : [ 60. 442.]\n",
      "\n",
      "[5,9] :  content : [4, 6, 7, 8, 9] : [391. 158.]\t[1, 4, 6, 7, 8] : [230. 196.]\t[2, 4, 6, 7, 8] : [226. 251.]\t[2, 4, 5, 6, 7] : [ 87. 376.]\t[1, 3, 4, 6, 7] : [186. 294.]\t[1, 2, 4, 6, 7] : [ 89. 313.]\t[1, 2, 4, 5, 7] : [ 43. 446.]\t[1, 2, 4, 5, 6] : [ 60. 442.]\n",
      "\n",
      "[5,10] :  content : [6, 7, 8, 9, 10] : [418. 112.]\t[4, 6, 7, 8, 10] : [254. 119.]\t[1, 4, 6, 7, 10] : [117. 181.]\t[2, 4, 6, 7, 10] : [113. 236.]\t[2, 4, 5, 7, 10] : [ 67. 369.]\t[1, 2, 4, 7, 10] : [ 69. 306.]\t[1, 2, 4, 6, 10] : [ 86. 302.]\t[1, 2, 4, 5, 10] : [ 40. 435.]\n"
     ]
    }
   ],
   "source": [
    "for i in range(2,k+1):\n",
    "    for j in range(3,n+1):\n",
    "        if(j < i):\n",
    "            continue\n",
    "        print()\n",
    "        c1 = prog_table[i-1][j-1]\n",
    "        c2 = prog_table[i][j-1]\n",
    "        #print(f\"[{i-1},{j-1}] : \", c1)\n",
    "        #print(f\"[{i},{j-1}] : \", c2)\n",
    "        c3 = c1\n",
    "        c3.add_item_to_all(j)\n",
    "        c4 = c2 + c3\n",
    "        c4.apply_pf()\n",
    "        print(f\"[{i},{j}] : \",c4)\n",
    "        prog_table[i][j] = c4"
   ]
  },
  {
   "cell_type": "markdown",
   "metadata": {},
   "source": [
    "Afin de valider l'approche sur des petits instances nous prévoyons cette méthode de calcul exhaustif des sac a dos efficaces qui consiste a énumérer tout les sacs a dos de taille k parmi les n objets, a calculer leur coûts puis a appliquer la méthode défini précédemment pour concerver les sac a dos pareto optimaux/"
   ]
  },
  {
   "cell_type": "code",
   "execution_count": 17,
   "metadata": {},
   "outputs": [
    {
     "name": "stdout",
     "output_type": "stream",
     "text": [
      "content : [1, 2, 4, 5, 10] : [ 40. 435.]\t[1, 2, 4, 6, 10] : [ 86. 302.]\t[1, 2, 4, 7, 10] : [ 69. 306.]\t[1, 4, 6, 7, 10] : [117. 181.]\t[2, 4, 5, 7, 10] : [ 67. 369.]\t[2, 4, 6, 7, 10] : [113. 236.]\t[4, 6, 7, 8, 10] : [254. 119.]\t[6, 7, 8, 9, 10] : [418. 112.]\n"
     ]
    }
   ],
   "source": [
    "from itertools import combinations\n",
    "\n",
    "i = combinations(np.arange(1,n+1),r = k)\n",
    "C = Cell()\n",
    "for j in i:\n",
    "    b = Bag()\n",
    "    b.set_ids(list(j))\n",
    "    C.add_bag(b)\n",
    "C.apply_pf()\n",
    "print(C)"
   ]
  },
  {
   "cell_type": "markdown",
   "metadata": {},
   "source": [
    "## Test de fonctionnement\n",
    "\n",
    "Afin de nous assurer du bon fonctionnement de notre approche nous allons générer des petits instances aléatoirement de n objets (n < 13) et nous calculerons les sac a dos optimaux contenant (2<k<n) objets avec l'approche exhaustive et l'approche basée sur la programmation dynamique et vérifier que notre approche donne bien le bon résultat."
   ]
  },
  {
   "cell_type": "code",
   "execution_count": 18,
   "metadata": {},
   "outputs": [
    {
     "name": "stdout",
     "output_type": "stream",
     "text": [
      "Checking if pareto_front_sorted and pareto_front_sorted_ameliore gave the same \n",
      "✅\n",
      "Checking if pareto_front_sorted and pareto_optimal_MO gave the same \n",
      "✅\n",
      "Checking if pareto_front_sorted and pareto_optimal_ameliore gave the same \n",
      "✅\n",
      "Checking if pareto_front_sorted and pareto_optimal_naif gave the same \n",
      "✅\n",
      "Checking if pareto_front_sorted_ameliore and pareto_optimal_MO gave the same \n",
      "✅\n",
      "Checking if pareto_front_sorted_ameliore and pareto_optimal_ameliore gave the same \n",
      "✅\n",
      "Checking if pareto_front_sorted_ameliore and pareto_optimal_naif gave the same \n",
      "✅\n",
      "Checking if pareto_optimal_MO and pareto_optimal_ameliore gave the same \n",
      "✅\n",
      "Checking if pareto_optimal_MO and pareto_optimal_naif gave the same \n",
      "✅\n",
      "Checking if pareto_optimal_ameliore and pareto_optimal_naif gave the same \n",
      "✅\n",
      ".Testing for k = 1, n = 3\n",
      "✅\n",
      "Testing for k = 2, n = 3\n",
      "✅\n",
      "Testing for k = 1, n = 4\n",
      "✅\n",
      "Testing for k = 2, n = 4\n",
      "✅\n",
      "Testing for k = 3, n = 4\n",
      "✅\n",
      "Testing for k = 1, n = 5\n",
      "✅\n",
      "Testing for k = 2, n = 5\n",
      "✅\n",
      "Testing for k = 3, n = 5\n",
      "✅\n",
      "Testing for k = 4, n = 5\n",
      "✅\n",
      "Testing for k = 1, n = 6\n",
      "✅\n",
      "Testing for k = 2, n = 6\n",
      "✅\n",
      "Testing for k = 3, n = 6\n",
      "✅\n",
      "Testing for k = 4, n = 6\n",
      "✅\n",
      "Testing for k = 5, n = 6\n",
      "✅\n",
      "Testing for k = 1, n = 7\n",
      "✅\n",
      "Testing for k = 2, n = 7\n",
      "✅\n",
      "Testing for k = 3, n = 7\n",
      "✅\n",
      "Testing for k = 4, n = 7\n",
      "✅\n",
      "Testing for k = 5, n = 7\n",
      "✅\n",
      "Testing for k = 6, n = 7\n",
      "✅\n",
      "Testing for k = 1, n = 8\n",
      "✅\n",
      "Testing for k = 2, n = 8\n",
      "✅\n",
      "Testing for k = 3, n = 8\n",
      "✅\n",
      "Testing for k = 4, n = 8\n",
      "✅\n",
      "Testing for k = 5, n = 8\n",
      "✅\n",
      "Testing for k = 6, n = 8\n",
      "✅\n",
      "Testing for k = 7, n = 8\n",
      "✅\n",
      "Testing for k = 1, n = 9\n",
      "✅\n",
      "Testing for k = 2, n = 9\n",
      "✅\n",
      "Testing for k = 3, n = 9\n",
      "✅\n",
      "Testing for k = 4, n = 9\n",
      "✅\n",
      "Testing for k = 5, n = 9\n",
      "✅\n",
      "Testing for k = 6, n = 9\n",
      "✅\n",
      "Testing for k = 7, n = 9\n",
      "✅\n",
      "Testing for k = 8, n = 9\n",
      "✅\n",
      "Testing for k = 1, n = 10\n",
      "✅\n",
      "Testing for k = 2, n = 10\n",
      "✅\n",
      "Testing for k = 3, n = 10\n",
      "✅\n",
      "Testing for k = 4, n = 10\n",
      "✅\n",
      "Testing for k = 5, n = 10\n",
      "✅\n",
      "Testing for k = 6, n = 10\n",
      "✅\n",
      "Testing for k = 7, n = 10\n",
      "✅\n",
      "Testing for k = 8, n = 10\n",
      "✅\n",
      "Testing for k = 9, n = 10\n",
      "✅\n",
      "Testing for k = 1, n = 11\n",
      "✅\n",
      "Testing for k = 2, n = 11\n",
      "✅\n",
      "Testing for k = 3, n = 11\n",
      "✅\n",
      "Testing for k = 4, n = 11\n",
      "✅\n",
      "Testing for k = 5, n = 11\n",
      "✅\n",
      "Testing for k = 6, n = 11\n",
      "✅\n",
      "Testing for k = 7, n = 11\n",
      "✅\n",
      "Testing for k = 8, n = 11\n",
      "✅\n",
      "Testing for k = 9, n = 11\n",
      "✅\n",
      "Testing for k = 10, n = 11\n",
      "✅\n",
      "Testing for k = 1, n = 12\n",
      "✅\n",
      "Testing for k = 2, n = 12\n",
      "✅\n",
      "Testing for k = 3, n = 12\n",
      "✅\n",
      "Testing for k = 4, n = 12\n",
      "✅\n",
      "Testing for k = 5, n = 12\n",
      "✅\n",
      "Testing for k = 6, n = 12\n",
      "✅\n",
      "Testing for k = 7, n = 12\n",
      "✅\n",
      "Testing for k = 8, n = 12\n",
      "✅\n",
      "Testing for k = 9, n = 12\n",
      "✅\n",
      "Testing for k = 10, n = 12\n",
      "✅\n",
      "Testing for k = 11, n = 12\n",
      "✅\n",
      "Testing for k = 1, n = 13\n",
      "✅\n",
      "Testing for k = 2, n = 13\n",
      "✅\n",
      "Testing for k = 3, n = 13\n",
      "✅\n",
      "Testing for k = 4, n = 13\n",
      "✅\n",
      "Testing for k = 5, n = 13\n",
      "✅\n",
      "Testing for k = 6, n = 13\n",
      "✅\n",
      "Testing for k = 7, n = 13\n",
      "✅\n",
      "Testing for k = 8, n = 13\n",
      "✅\n",
      "Testing for k = 9, n = 13\n",
      "✅\n",
      "Testing for k = 10, n = 13\n",
      "✅\n",
      "Testing for k = 11, n = 13\n",
      "✅\n",
      "Testing for k = 12, n = 13\n",
      "✅\n",
      ".\n",
      "----------------------------------------------------------------------\n",
      "Ran 2 tests in 4.089s\n",
      "\n",
      "OK\n"
     ]
    }
   ],
   "source": [
    "!python utils/te.py"
   ]
  },
  {
   "cell_type": "markdown",
   "metadata": {},
   "source": [
    "## Test de compléxité \n",
    "D'abord nous allons vérifier que notre approche est bien plus efficace qu'une énumération exhaustive."
   ]
  },
  {
   "cell_type": "code",
   "execution_count": 19,
   "metadata": {},
   "outputs": [
    {
     "data": {
      "text/plain": [
       "array([[  3, 122,  14, 126,   8,  92,  43,  48, 193,  19],\n",
       "       [103,  91,  20,   3,  40, 139,  71, 163, 177,  76]])"
      ]
     },
     "execution_count": 19,
     "metadata": {},
     "output_type": "execute_result"
    }
   ],
   "source": [
    "c = get_random_cost(10)\n",
    "c"
   ]
  },
  {
   "cell_type": "code",
   "execution_count": 20,
   "metadata": {},
   "outputs": [],
   "source": [
    "f,g = test_dynamic_prog(10,5,c)"
   ]
  },
  {
   "cell_type": "code",
   "execution_count": 21,
   "metadata": {},
   "outputs": [],
   "source": [
    "def test_comp_dynamic_prog(lower_born= 3, upper_born=13, step = 1 , nb_trys = 1):\n",
    "    logs = {\n",
    "        \"n\":[],\n",
    "        \"time\":[],\n",
    "        \"k\":[],\n",
    "        \"variant\":[]\n",
    "    }\n",
    "    for n in range(lower_born, upper_born+step, step):\n",
    "        c = get_random_cost(n)\n",
    "        for k in range(1,n):\n",
    "            for i in range(nb_trys):\n",
    "                c = get_random_cost(n)\n",
    "                f,g = test_dynamic_prog(n,k,c)\n",
    "                t = time.time_ns()\n",
    "                c = f()\n",
    "                t =  time.time_ns() - t\n",
    "                logs[\"n\"].append(n)\n",
    "                logs[\"time\"].append(t)\n",
    "                logs[\"k\"].append(k)\n",
    "                logs[\"variant\"].append(\"dynamic\")\n",
    "                t = time.time_ns()\n",
    "                c = g()\n",
    "                t =  time.time_ns() - t\n",
    "                logs[\"n\"].append(n)\n",
    "                logs[\"time\"].append(t)\n",
    "                logs[\"k\"].append(k)\n",
    "                logs[\"variant\"].append(\"exhaustif\")\n",
    "    return logs"
   ]
  },
  {
   "cell_type": "code",
   "execution_count": 30,
   "metadata": {},
   "outputs": [],
   "source": [
    "logs = test_comp_dynamic_prog()"
   ]
  },
  {
   "cell_type": "code",
   "execution_count": 31,
   "metadata": {},
   "outputs": [],
   "source": [
    "import pandas as pd\n",
    "df = pd.DataFrame(logs)"
   ]
  },
  {
   "cell_type": "code",
   "execution_count": 32,
   "metadata": {},
   "outputs": [],
   "source": [
    "filter_k = lambda df,k : df[df.k == k]\n",
    "filter_variant = lambda df,variant : df[df.variant == variant]"
   ]
  },
  {
   "cell_type": "code",
   "execution_count": 33,
   "metadata": {},
   "outputs": [
    {
     "data": {
      "text/html": [
       "<div>\n",
       "<style scoped>\n",
       "    .dataframe tbody tr th:only-of-type {\n",
       "        vertical-align: middle;\n",
       "    }\n",
       "\n",
       "    .dataframe tbody tr th {\n",
       "        vertical-align: top;\n",
       "    }\n",
       "\n",
       "    .dataframe thead th {\n",
       "        text-align: right;\n",
       "    }\n",
       "</style>\n",
       "<table border=\"1\" class=\"dataframe\">\n",
       "  <thead>\n",
       "    <tr style=\"text-align: right;\">\n",
       "      <th></th>\n",
       "      <th>n</th>\n",
       "      <th>time</th>\n",
       "      <th>k</th>\n",
       "      <th>variant</th>\n",
       "    </tr>\n",
       "  </thead>\n",
       "  <tbody>\n",
       "    <tr>\n",
       "      <th>0</th>\n",
       "      <td>3</td>\n",
       "      <td>1477531</td>\n",
       "      <td>1</td>\n",
       "      <td>dynamic</td>\n",
       "    </tr>\n",
       "    <tr>\n",
       "      <th>1</th>\n",
       "      <td>3</td>\n",
       "      <td>1707722</td>\n",
       "      <td>1</td>\n",
       "      <td>exhaustif</td>\n",
       "    </tr>\n",
       "    <tr>\n",
       "      <th>2</th>\n",
       "      <td>3</td>\n",
       "      <td>2392300</td>\n",
       "      <td>2</td>\n",
       "      <td>dynamic</td>\n",
       "    </tr>\n",
       "    <tr>\n",
       "      <th>3</th>\n",
       "      <td>3</td>\n",
       "      <td>917689</td>\n",
       "      <td>2</td>\n",
       "      <td>exhaustif</td>\n",
       "    </tr>\n",
       "    <tr>\n",
       "      <th>4</th>\n",
       "      <td>4</td>\n",
       "      <td>2116270</td>\n",
       "      <td>1</td>\n",
       "      <td>dynamic</td>\n",
       "    </tr>\n",
       "    <tr>\n",
       "      <th>...</th>\n",
       "      <td>...</td>\n",
       "      <td>...</td>\n",
       "      <td>...</td>\n",
       "      <td>...</td>\n",
       "    </tr>\n",
       "    <tr>\n",
       "      <th>149</th>\n",
       "      <td>13</td>\n",
       "      <td>29760772</td>\n",
       "      <td>10</td>\n",
       "      <td>exhaustif</td>\n",
       "    </tr>\n",
       "    <tr>\n",
       "      <th>150</th>\n",
       "      <td>13</td>\n",
       "      <td>30803410</td>\n",
       "      <td>11</td>\n",
       "      <td>dynamic</td>\n",
       "    </tr>\n",
       "    <tr>\n",
       "      <th>151</th>\n",
       "      <td>13</td>\n",
       "      <td>5785507</td>\n",
       "      <td>11</td>\n",
       "      <td>exhaustif</td>\n",
       "    </tr>\n",
       "    <tr>\n",
       "      <th>152</th>\n",
       "      <td>13</td>\n",
       "      <td>23169673</td>\n",
       "      <td>12</td>\n",
       "      <td>dynamic</td>\n",
       "    </tr>\n",
       "    <tr>\n",
       "      <th>153</th>\n",
       "      <td>13</td>\n",
       "      <td>927290</td>\n",
       "      <td>12</td>\n",
       "      <td>exhaustif</td>\n",
       "    </tr>\n",
       "  </tbody>\n",
       "</table>\n",
       "<p>154 rows × 4 columns</p>\n",
       "</div>"
      ],
      "text/plain": [
       "      n      time   k    variant\n",
       "0     3   1477531   1    dynamic\n",
       "1     3   1707722   1  exhaustif\n",
       "2     3   2392300   2    dynamic\n",
       "3     3    917689   2  exhaustif\n",
       "4     4   2116270   1    dynamic\n",
       "..   ..       ...  ..        ...\n",
       "149  13  29760772  10  exhaustif\n",
       "150  13  30803410  11    dynamic\n",
       "151  13   5785507  11  exhaustif\n",
       "152  13  23169673  12    dynamic\n",
       "153  13    927290  12  exhaustif\n",
       "\n",
       "[154 rows x 4 columns]"
      ]
     },
     "execution_count": 33,
     "metadata": {},
     "output_type": "execute_result"
    }
   ],
   "source": [
    "df"
   ]
  },
  {
   "cell_type": "code",
   "execution_count": 34,
   "metadata": {},
   "outputs": [],
   "source": [
    "dk = df.groupby([\"n\",\"variant\"]).mean()"
   ]
  },
  {
   "cell_type": "code",
   "execution_count": 35,
   "metadata": {},
   "outputs": [
    {
     "data": {
      "text/plain": [
       "<matplotlib.axes._subplots.AxesSubplot at 0x7fd3783dc210>"
      ]
     },
     "execution_count": 35,
     "metadata": {},
     "output_type": "execute_result"
    },
    {
     "data": {
      "image/png": "[encoded data removed]",
      "text/plain": [
       "<Figure size 432x288 with 1 Axes>"
      ]
     },
     "metadata": {
      "needs_background": "light"
     },
     "output_type": "display_data"
    }
   ],
   "source": [
    "sns.lineplot(x=\"n\", y=\"time\", hue=\"variant\",data=dk.reset_index())"
   ]
  },
  {
   "cell_type": "markdown",
   "metadata": {},
   "source": [
    "En effet on remarque que l'approche exhaustive est de complexité exponentielle et deviens intractable pour des instances dépassant les 20 environ.\n",
    "\n",
    "A présent nous allons estimer la complexité de notre approche basée sur la programmation dynamique.\n",
    "La taille du tableau est (k,n) donc c'est un $O(kn) \\in O(n^2)$ et chaque utilisation de l'algorithme défini dans la première partie coûte un temps $O(n)$\n",
    "donc on devrait s'attendre a trouver une complexité d'ordre $O(n^3)$."
   ]
  },
  {
   "cell_type": "code",
   "execution_count": 40,
   "metadata": {},
   "outputs": [],
   "source": [
    "def stress_test_dynamic_prog(lower_born= 3, upper_born=20 , nb_trys = 1):\n",
    "    logs = {\n",
    "        \"n\":[],\n",
    "        \"time\":[],\n",
    "        \"k\":[],\n",
    "    }\n",
    "    for n in range(lower_born, upper_born+2, 2):\n",
    "        c = get_random_cost(n)\n",
    "        for k in range(1,n):\n",
    "            for i in range(nb_trys):\n",
    "                print(f\"[{n},{k}]\", end=\"\\t\")\n",
    "                c = get_random_cost(n)\n",
    "                f,g = test_dynamic_prog(n,k,c)\n",
    "                t = time.time_ns()\n",
    "                c = f()\n",
    "                t =  time.time_ns() - t\n",
    "                logs[\"n\"].append(n)\n",
    "                logs[\"time\"].append(t)\n",
    "                logs[\"k\"].append(k)\n",
    "    return logs"
   ]
  },
  {
   "cell_type": "code",
   "execution_count": 41,
   "metadata": {},
   "outputs": [
    {
     "name": "stdout",
     "output_type": "stream",
     "text": [
      "[3,1]\t[3,1]\t[3,1]\t[3,1]\t[3,1]\t[3,2]\t[3,2]\t[3,2]\t[3,2]\t[3,2]\t[5,1]\t[5,1]\t[5,1]\t[5,1]\t[5,1]\t[5,2]\t[5,2]\t[5,2]\t[5,2]\t[5,2]\t[5,3]\t[5,3]\t[5,3]\t[5,3]\t[5,3]\t[5,4]\t[5,4]\t[5,4]\t[5,4]\t[5,4]\t[7,1]\t[7,1]\t[7,1]\t[7,1]\t[7,1]\t[7,2]\t[7,2]\t[7,2]\t[7,2]\t[7,2]\t[7,3]\t[7,3]\t[7,3]\t[7,3]\t[7,3]\t[7,4]\t[7,4]\t[7,4]\t[7,4]\t[7,4]\t[7,5]\t[7,5]\t[7,5]\t[7,5]\t[7,5]\t[7,6]\t[7,6]\t[7,6]\t[7,6]\t[7,6]\t[9,1]\t[9,1]\t[9,1]\t[9,1]\t[9,1]\t[9,2]\t[9,2]\t[9,2]\t[9,2]\t[9,2]\t[9,3]\t[9,3]\t[9,3]\t[9,3]\t[9,3]\t[9,4]\t[9,4]\t[9,4]\t[9,4]\t[9,4]\t[9,5]\t[9,5]\t[9,5]\t[9,5]\t[9,5]\t[9,6]\t[9,6]\t[9,6]\t[9,6]\t[9,6]\t[9,7]\t[9,7]\t[9,7]\t[9,7]\t[9,7]\t[9,8]\t[9,8]\t[9,8]\t[9,8]\t[9,8]\t[11,1]\t[11,1]\t[11,1]\t[11,1]\t[11,1]\t[11,2]\t[11,2]\t[11,2]\t[11,2]\t[11,2]\t[11,3]\t[11,3]\t[11,3]\t[11,3]\t[11,3]\t[11,4]\t[11,4]\t[11,4]\t[11,4]\t[11,4]\t[11,5]\t[11,5]\t[11,5]\t[11,5]\t[11,5]\t[11,6]\t[11,6]\t[11,6]\t[11,6]\t[11,6]\t[11,7]\t[11,7]\t[11,7]\t[11,7]\t[11,7]\t[11,8]\t[11,8]\t[11,8]\t[11,8]\t[11,8]\t[11,9]\t[11,9]\t[11,9]\t[11,9]\t[11,9]\t[11,10]\t[11,10]\t[11,10]\t[11,10]\t[11,10]\t[13,1]\t[13,1]\t[13,1]\t[13,1]\t[13,1]\t[13,2]\t[13,2]\t[13,2]\t[13,2]\t[13,2]\t[13,3]\t[13,3]\t[13,3]\t[13,3]\t[13,3]\t[13,4]\t[13,4]\t[13,4]\t[13,4]\t[13,4]\t[13,5]\t[13,5]\t[13,5]\t[13,5]\t[13,5]\t[13,6]\t[13,6]\t[13,6]\t[13,6]\t[13,6]\t[13,7]\t[13,7]\t[13,7]\t[13,7]\t[13,7]\t[13,8]\t[13,8]\t[13,8]\t[13,8]\t[13,8]\t[13,9]\t[13,9]\t[13,9]\t[13,9]\t[13,9]\t[13,10]\t[13,10]\t[13,10]\t[13,10]\t[13,10]\t[13,11]\t[13,11]\t[13,11]\t[13,11]\t[13,11]\t[13,12]\t[13,12]\t[13,12]\t[13,12]\t[13,12]\t[15,1]\t[15,1]\t[15,1]\t[15,1]\t[15,1]\t[15,2]\t[15,2]\t[15,2]\t[15,2]\t[15,2]\t[15,3]\t[15,3]\t[15,3]\t[15,3]\t[15,3]\t[15,4]\t[15,4]\t[15,4]\t[15,4]\t[15,4]\t[15,5]\t[15,5]\t[15,5]\t[15,5]\t[15,5]\t[15,6]\t[15,6]\t[15,6]\t[15,6]\t[15,6]\t[15,7]\t[15,7]\t[15,7]\t[15,7]\t[15,7]\t[15,8]\t[15,8]\t[15,8]\t[15,8]\t[15,8]\t[15,9]\t[15,9]\t[15,9]\t[15,9]\t[15,9]\t[15,10]\t[15,10]\t[15,10]\t[15,10]\t[15,10]\t[15,11]\t[15,11]\t[15,11]\t[15,11]\t[15,11]\t[15,12]\t[15,12]\t[15,12]\t[15,12]\t[15,12]\t[15,13]\t[15,13]\t[15,13]\t[15,13]\t[15,13]\t[15,14]\t[15,14]\t[15,14]\t[15,14]\t[15,14]\t[17,1]\t[17,1]\t[17,1]\t[17,1]\t[17,1]\t[17,2]\t[17,2]\t[17,2]\t[17,2]\t[17,2]\t[17,3]\t[17,3]\t[17,3]\t[17,3]\t[17,3]\t[17,4]\t[17,4]\t[17,4]\t[17,4]\t[17,4]\t[17,5]\t[17,5]\t[17,5]\t[17,5]\t[17,5]\t[17,6]\t[17,6]\t[17,6]\t[17,6]\t[17,6]\t[17,7]\t[17,7]\t[17,7]\t[17,7]\t[17,7]\t[17,8]\t[17,8]\t[17,8]\t[17,8]\t[17,8]\t[17,9]\t[17,9]\t[17,9]\t[17,9]\t[17,9]\t[17,10]\t[17,10]\t[17,10]\t[17,10]\t[17,10]\t[17,11]\t[17,11]\t[17,11]\t[17,11]\t[17,11]\t[17,12]\t[17,12]\t[17,12]\t[17,12]\t[17,12]\t[17,13]\t[17,13]\t[17,13]\t[17,13]\t[17,13]\t[17,14]\t[17,14]\t[17,14]\t[17,14]\t[17,14]\t[17,15]\t[17,15]\t[17,15]\t[17,15]\t[17,15]\t[17,16]\t[17,16]\t[17,16]\t[17,16]\t[17,16]\t[19,1]\t[19,1]\t[19,1]\t[19,1]\t[19,1]\t[19,2]\t[19,2]\t[19,2]\t[19,2]\t[19,2]\t[19,3]\t[19,3]\t[19,3]\t[19,3]\t[19,3]\t[19,4]\t[19,4]\t[19,4]\t[19,4]\t[19,4]\t[19,5]\t[19,5]\t[19,5]\t[19,5]\t[19,5]\t[19,6]\t[19,6]\t[19,6]\t[19,6]\t[19,6]\t[19,7]\t[19,7]\t[19,7]\t[19,7]\t[19,7]\t[19,8]\t[19,8]\t[19,8]\t[19,8]\t[19,8]\t[19,9]\t[19,9]\t[19,9]\t[19,9]\t[19,9]\t[19,10]\t[19,10]\t[19,10]\t[19,10]\t[19,10]\t[19,11]\t[19,11]\t[19,11]\t[19,11]\t[19,11]\t[19,12]\t[19,12]\t[19,12]\t[19,12]\t[19,12]\t[19,13]\t[19,13]\t[19,13]\t[19,13]\t[19,13]\t[19,14]\t[19,14]\t[19,14]\t[19,14]\t[19,14]\t[19,15]\t[19,15]\t[19,15]\t[19,15]\t[19,15]\t[19,16]\t[19,16]\t[19,16]\t[19,16]\t[19,16]\t[19,17]\t[19,17]\t[19,17]\t[19,17]\t[19,17]\t[19,18]\t[19,18]\t[19,18]\t[19,18]\t[19,18]\t[21,1]\t[21,1]\t[21,1]\t[21,1]\t[21,1]\t[21,2]\t[21,2]\t[21,2]\t[21,2]\t[21,2]\t[21,3]\t[21,3]\t[21,3]\t[21,3]\t[21,3]\t[21,4]\t[21,4]\t[21,4]\t[21,4]\t[21,4]\t[21,5]\t[21,5]\t[21,5]\t[21,5]\t[21,5]\t[21,6]\t[21,6]\t[21,6]\t[21,6]\t[21,6]\t[21,7]\t[21,7]\t[21,7]\t[21,7]\t[21,7]\t[21,8]\t[21,8]\t[21,8]\t[21,8]\t[21,8]\t[21,9]\t[21,9]\t[21,9]\t[21,9]\t[21,9]\t[21,10]\t[21,10]\t[21,10]\t[21,10]\t[21,10]\t[21,11]\t[21,11]\t[21,11]\t[21,11]\t[21,11]\t[21,12]\t[21,12]\t[21,12]\t[21,12]\t[21,12]\t[21,13]\t[21,13]\t[21,13]\t[21,13]\t[21,13]\t[21,14]\t[21,14]\t[21,14]\t[21,14]\t[21,14]\t[21,15]\t[21,15]\t[21,15]\t[21,15]\t[21,15]\t[21,16]\t[21,16]\t[21,16]\t[21,16]\t[21,16]\t[21,17]\t[21,17]\t[21,17]\t[21,17]\t[21,17]\t[21,18]\t[21,18]\t[21,18]\t[21,18]\t[21,18]\t[21,19]\t[21,19]\t[21,19]\t[21,19]\t[21,19]\t[21,20]\t[21,20]\t[21,20]\t[21,20]\t[21,20]\t[23,1]\t[23,1]\t[23,1]\t[23,1]\t[23,1]\t[23,2]\t[23,2]\t[23,2]\t[23,2]\t[23,2]\t[23,3]\t[23,3]\t[23,3]\t[23,3]\t[23,3]\t[23,4]\t[23,4]\t[23,4]\t[23,4]\t[23,4]\t[23,5]\t[23,5]\t[23,5]\t[23,5]\t[23,5]\t[23,6]\t[23,6]\t[23,6]\t[23,6]\t[23,6]\t[23,7]\t[23,7]\t[23,7]\t[23,7]\t[23,7]\t[23,8]\t[23,8]\t[23,8]\t[23,8]\t[23,8]\t[23,9]\t[23,9]\t[23,9]\t[23,9]\t[23,9]\t[23,10]\t[23,10]\t[23,10]\t[23,10]\t[23,10]\t[23,11]\t[23,11]\t[23,11]\t[23,11]\t[23,11]\t[23,12]\t[23,12]\t[23,12]\t[23,12]\t[23,12]\t[23,13]\t[23,13]\t[23,13]\t[23,13]\t[23,13]\t[23,14]\t[23,14]\t[23,14]\t[23,14]\t[23,14]\t[23,15]\t[23,15]\t[23,15]\t[23,15]\t[23,15]\t[23,16]\t[23,16]\t[23,16]\t[23,16]\t[23,16]\t[23,17]\t[23,17]\t[23,17]\t[23,17]\t[23,17]\t[23,18]\t[23,18]\t[23,18]\t[23,18]\t[23,18]\t[23,19]\t[23,19]\t[23,19]\t[23,19]\t[23,19]\t[23,20]\t[23,20]\t[23,20]\t[23,20]\t[23,20]\t[23,21]\t[23,21]\t[23,21]\t[23,21]\t[23,21]\t[23,22]\t[23,22]\t[23,22]\t[23,22]\t[23,22]\t[25,1]\t[25,1]\t[25,1]\t[25,1]\t[25,1]\t[25,2]\t[25,2]\t[25,2]\t[25,2]\t[25,2]\t[25,3]\t[25,3]\t[25,3]\t[25,3]\t[25,3]\t[25,4]\t[25,4]\t[25,4]\t[25,4]\t[25,4]\t[25,5]\t[25,5]\t[25,5]\t[25,5]\t[25,5]\t[25,6]\t[25,6]\t[25,6]\t[25,6]\t[25,6]\t[25,7]\t[25,7]\t[25,7]\t[25,7]\t[25,7]\t[25,8]\t[25,8]\t[25,8]\t[25,8]\t[25,8]\t[25,9]\t[25,9]\t[25,9]\t[25,9]\t[25,9]\t[25,10]\t[25,10]\t[25,10]\t[25,10]\t[25,10]\t[25,11]\t[25,11]\t[25,11]\t[25,11]\t[25,11]\t[25,12]\t[25,12]\t[25,12]\t[25,12]\t[25,12]\t[25,13]\t[25,13]\t[25,13]\t[25,13]\t[25,13]\t[25,14]\t[25,14]\t[25,14]\t[25,14]\t[25,14]\t[25,15]\t[25,15]\t[25,15]\t[25,15]\t[25,15]\t[25,16]\t[25,16]\t[25,16]\t[25,16]\t[25,16]\t[25,17]\t[25,17]\t[25,17]\t[25,17]\t[25,17]\t[25,18]\t[25,18]\t[25,18]\t[25,18]\t[25,18]\t[25,19]\t[25,19]\t[25,19]\t[25,19]\t[25,19]\t[25,20]\t[25,20]\t[25,20]\t[25,20]\t[25,20]\t[25,21]\t[25,21]\t[25,21]\t[25,21]\t[25,21]\t[25,22]\t[25,22]\t[25,22]\t[25,22]\t[25,22]\t[25,23]\t[25,23]\t[25,23]\t[25,23]\t[25,23]\t[25,24]\t[25,24]\t[25,24]\t[25,24]\t[25,24]\t[27,1]\t[27,1]\t[27,1]\t[27,1]\t[27,1]\t[27,2]\t[27,2]\t[27,2]\t[27,2]\t[27,2]\t[27,3]\t[27,3]\t[27,3]\t[27,3]\t[27,3]\t[27,4]\t[27,4]\t[27,4]\t[27,4]\t[27,4]\t[27,5]\t[27,5]\t[27,5]\t[27,5]\t[27,5]\t[27,6]\t[27,6]\t[27,6]\t[27,6]\t[27,6]\t[27,7]\t[27,7]\t[27,7]\t[27,7]\t[27,7]\t[27,8]\t[27,8]\t[27,8]\t[27,8]\t[27,8]\t[27,9]\t[27,9]\t[27,9]\t[27,9]\t[27,9]\t[27,10]\t[27,10]\t[27,10]\t[27,10]\t[27,10]\t[27,11]\t[27,11]\t[27,11]\t[27,11]\t[27,11]\t[27,12]\t[27,12]\t[27,12]\t[27,12]\t[27,12]\t[27,13]\t[27,13]\t[27,13]\t[27,13]\t[27,13]\t[27,14]\t[27,14]\t[27,14]\t[27,14]\t[27,14]\t[27,15]\t[27,15]\t[27,15]\t[27,15]\t[27,15]\t[27,16]\t[27,16]\t[27,16]\t[27,16]\t[27,16]\t[27,17]\t[27,17]\t[27,17]\t[27,17]\t[27,17]\t[27,18]\t[27,18]\t[27,18]\t[27,18]\t[27,18]\t[27,19]\t[27,19]\t[27,19]\t[27,19]\t[27,19]\t[27,20]\t[27,20]\t[27,20]\t[27,20]\t[27,20]\t[27,21]\t[27,21]\t[27,21]\t[27,21]\t[27,21]\t[27,22]\t[27,22]\t[27,22]\t[27,22]\t[27,22]\t[27,23]\t[27,23]\t[27,23]\t[27,23]\t[27,23]\t[27,24]\t[27,24]\t[27,24]\t[27,24]\t[27,24]\t[27,25]\t[27,25]\t[27,25]\t[27,25]\t[27,25]\t[27,26]\t[27,26]\t[27,26]\t[27,26]\t[27,26]\t[29,1]\t[29,1]\t[29,1]\t[29,1]\t[29,1]\t[29,2]\t[29,2]\t[29,2]\t[29,2]\t[29,2]\t[29,3]\t[29,3]\t[29,3]\t[29,3]\t[29,3]\t[29,4]\t[29,4]\t[29,4]\t[29,4]\t[29,4]\t[29,5]\t[29,5]\t[29,5]\t[29,5]\t[29,5]\t[29,6]\t[29,6]\t[29,6]\t[29,6]\t[29,6]\t[29,7]\t[29,7]\t[29,7]\t[29,7]\t[29,7]\t[29,8]\t[29,8]\t[29,8]\t[29,8]\t[29,8]\t[29,9]\t[29,9]\t[29,9]\t[29,9]\t[29,9]\t[29,10]\t[29,10]\t[29,10]\t[29,10]\t[29,10]\t[29,11]\t[29,11]\t[29,11]\t[29,11]\t[29,11]\t[29,12]\t[29,12]\t[29,12]\t[29,12]\t[29,12]\t[29,13]\t[29,13]\t[29,13]\t[29,13]\t[29,13]\t[29,14]\t[29,14]\t[29,14]\t[29,14]\t[29,14]\t[29,15]\t[29,15]\t[29,15]\t[29,15]\t[29,15]\t[29,16]\t[29,16]\t[29,16]\t[29,16]\t[29,16]\t[29,17]\t[29,17]\t[29,17]\t[29,17]\t[29,17]\t[29,18]\t[29,18]\t[29,18]\t[29,18]\t[29,18]\t[29,19]\t[29,19]\t[29,19]\t[29,19]\t[29,19]\t[29,20]\t[29,20]\t[29,20]\t[29,20]\t[29,20]\t[29,21]\t[29,21]\t[29,21]\t[29,21]\t[29,21]\t[29,22]\t[29,22]\t[29,22]\t[29,22]\t[29,22]\t[29,23]\t[29,23]\t[29,23]\t[29,23]\t[29,23]\t[29,24]\t[29,24]\t[29,24]\t[29,24]\t[29,24]\t[29,25]\t[29,25]\t[29,25]\t[29,25]\t[29,25]\t[29,26]\t[29,26]\t[29,26]\t[29,26]\t[29,26]\t[29,27]\t[29,27]\t[29,27]\t[29,27]\t[29,27]\t[29,28]\t[29,28]\t[29,28]\t[29,28]\t[29,28]\t[31,1]\t[31,1]\t[31,1]\t[31,1]\t[31,1]\t[31,2]\t[31,2]\t[31,2]\t[31,2]\t[31,2]\t[31,3]\t[31,3]\t[31,3]\t[31,3]\t[31,3]\t[31,4]\t[31,4]\t[31,4]\t[31,4]\t[31,4]\t[31,5]\t[31,5]\t[31,5]\t[31,5]\t[31,5]\t[31,6]\t[31,6]\t[31,6]\t[31,6]\t[31,6]\t[31,7]\t[31,7]\t[31,7]\t[31,7]\t[31,7]\t[31,8]\t[31,8]\t[31,8]\t[31,8]\t[31,8]\t[31,9]\t[31,9]\t[31,9]\t[31,9]\t[31,9]\t[31,10]\t[31,10]\t[31,10]\t[31,10]\t[31,10]\t[31,11]\t[31,11]\t[31,11]\t[31,11]\t[31,11]\t[31,12]\t[31,12]\t[31,12]\t[31,12]\t[31,12]\t[31,13]\t"
     ]
    },
    {
     "name": "stdout",
     "output_type": "stream",
     "text": [
      "[31,13]\t[31,13]\t[31,13]\t[31,13]\t[31,14]\t[31,14]\t[31,14]\t[31,14]\t[31,14]\t[31,15]\t[31,15]\t[31,15]\t[31,15]\t[31,15]\t[31,16]\t[31,16]\t[31,16]\t[31,16]\t[31,16]\t[31,17]\t[31,17]\t[31,17]\t[31,17]\t[31,17]\t[31,18]\t[31,18]\t[31,18]\t[31,18]\t[31,18]\t[31,19]\t[31,19]\t[31,19]\t[31,19]\t[31,19]\t[31,20]\t[31,20]\t[31,20]\t[31,20]\t[31,20]\t[31,21]\t[31,21]\t[31,21]\t[31,21]\t[31,21]\t[31,22]\t[31,22]\t[31,22]\t[31,22]\t[31,22]\t[31,23]\t[31,23]\t[31,23]\t[31,23]\t[31,23]\t[31,24]\t[31,24]\t[31,24]\t[31,24]\t[31,24]\t[31,25]\t[31,25]\t[31,25]\t[31,25]\t[31,25]\t[31,26]\t[31,26]\t[31,26]\t[31,26]\t[31,26]\t[31,27]\t[31,27]\t[31,27]\t[31,27]\t[31,27]\t[31,28]\t[31,28]\t[31,28]\t[31,28]\t[31,28]\t[31,29]\t[31,29]\t[31,29]\t[31,29]\t[31,29]\t[31,30]\t[31,30]\t[31,30]\t[31,30]\t[31,30]\t[33,1]\t[33,1]\t[33,1]\t[33,1]\t[33,1]\t[33,2]\t[33,2]\t[33,2]\t[33,2]\t[33,2]\t[33,3]\t[33,3]\t[33,3]\t[33,3]\t[33,3]\t[33,4]\t[33,4]\t[33,4]\t[33,4]\t[33,4]\t[33,5]\t[33,5]\t[33,5]\t[33,5]\t[33,5]\t[33,6]\t[33,6]\t[33,6]\t[33,6]\t[33,6]\t[33,7]\t[33,7]\t[33,7]\t[33,7]\t[33,7]\t[33,8]\t[33,8]\t[33,8]\t[33,8]\t[33,8]\t[33,9]\t[33,9]\t[33,9]\t[33,9]\t[33,9]\t[33,10]\t[33,10]\t[33,10]\t[33,10]\t[33,10]\t[33,11]\t[33,11]\t[33,11]\t[33,11]\t[33,11]\t[33,12]\t[33,12]\t[33,12]\t[33,12]\t[33,12]\t[33,13]\t[33,13]\t[33,13]\t[33,13]\t[33,13]\t[33,14]\t[33,14]\t[33,14]\t[33,14]\t[33,14]\t[33,15]\t[33,15]\t[33,15]\t[33,15]\t[33,15]\t[33,16]\t[33,16]\t[33,16]\t[33,16]\t[33,16]\t[33,17]\t[33,17]\t[33,17]\t[33,17]\t[33,17]\t[33,18]\t[33,18]\t[33,18]\t[33,18]\t[33,18]\t[33,19]\t[33,19]\t[33,19]\t[33,19]\t[33,19]\t[33,20]\t[33,20]\t[33,20]\t[33,20]\t[33,20]\t[33,21]\t[33,21]\t[33,21]\t[33,21]\t[33,21]\t[33,22]\t[33,22]\t[33,22]\t[33,22]\t[33,22]\t[33,23]\t[33,23]\t[33,23]\t[33,23]\t[33,23]\t[33,24]\t[33,24]\t[33,24]\t[33,24]\t[33,24]\t[33,25]\t[33,25]\t[33,25]\t[33,25]\t[33,25]\t[33,26]\t[33,26]\t[33,26]\t[33,26]\t[33,26]\t[33,27]\t[33,27]\t[33,27]\t[33,27]\t[33,27]\t[33,28]\t[33,28]\t[33,28]\t[33,28]\t[33,28]\t[33,29]\t[33,29]\t[33,29]\t[33,29]\t[33,29]\t[33,30]\t[33,30]\t[33,30]\t[33,30]\t[33,30]\t[33,31]\t[33,31]\t[33,31]\t[33,31]\t[33,31]\t[33,32]\t[33,32]\t[33,32]\t[33,32]\t[33,32]\t[35,1]\t[35,1]\t[35,1]\t[35,1]\t[35,1]\t[35,2]\t[35,2]\t[35,2]\t[35,2]\t[35,2]\t[35,3]\t[35,3]\t[35,3]\t[35,3]\t[35,3]\t[35,4]\t[35,4]\t[35,4]\t[35,4]\t[35,4]\t[35,5]\t[35,5]\t[35,5]\t[35,5]\t[35,5]\t[35,6]\t[35,6]\t[35,6]\t[35,6]\t[35,6]\t[35,7]\t[35,7]\t[35,7]\t[35,7]\t[35,7]\t[35,8]\t[35,8]\t[35,8]\t[35,8]\t[35,8]\t[35,9]\t[35,9]\t[35,9]\t[35,9]\t[35,9]\t[35,10]\t[35,10]\t[35,10]\t[35,10]\t[35,10]\t[35,11]\t[35,11]\t[35,11]\t[35,11]\t[35,11]\t[35,12]\t[35,12]\t[35,12]\t[35,12]\t[35,12]\t[35,13]\t[35,13]\t[35,13]\t[35,13]\t[35,13]\t[35,14]\t[35,14]\t[35,14]\t[35,14]\t[35,14]\t[35,15]\t[35,15]\t[35,15]\t[35,15]\t[35,15]\t[35,16]\t[35,16]\t[35,16]\t[35,16]\t[35,16]\t[35,17]\t[35,17]\t[35,17]\t[35,17]\t[35,17]\t[35,18]\t[35,18]\t[35,18]\t[35,18]\t[35,18]\t[35,19]\t[35,19]\t[35,19]\t[35,19]\t[35,19]\t[35,20]\t[35,20]\t[35,20]\t[35,20]\t[35,20]\t[35,21]\t[35,21]\t[35,21]\t[35,21]\t[35,21]\t[35,22]\t[35,22]\t[35,22]\t[35,22]\t[35,22]\t[35,23]\t[35,23]\t[35,23]\t[35,23]\t[35,23]\t[35,24]\t[35,24]\t[35,24]\t[35,24]\t[35,24]\t[35,25]\t[35,25]\t[35,25]\t[35,25]\t[35,25]\t[35,26]\t[35,26]\t[35,26]\t[35,26]\t[35,26]\t[35,27]\t[35,27]\t[35,27]\t[35,27]\t[35,27]\t[35,28]\t[35,28]\t[35,28]\t[35,28]\t[35,28]\t[35,29]\t[35,29]\t[35,29]\t[35,29]\t[35,29]\t[35,30]\t[35,30]\t[35,30]\t[35,30]\t[35,30]\t[35,31]\t[35,31]\t[35,31]\t[35,31]\t[35,31]\t[35,32]\t[35,32]\t[35,32]\t[35,32]\t[35,32]\t[35,33]\t[35,33]\t[35,33]\t[35,33]\t[35,33]\t[35,34]\t[35,34]\t[35,34]\t[35,34]\t[35,34]\t"
     ]
    }
   ],
   "source": [
    "logs2 = stress_test_dynamic_prog(lower_born= 3, upper_born=34 , nb_trys = 5)"
   ]
  },
  {
   "cell_type": "code",
   "execution_count": 42,
   "metadata": {},
   "outputs": [
    {
     "data": {
      "text/plain": [
       "<matplotlib.axes._subplots.AxesSubplot at 0x7fd34d718690>"
      ]
     },
     "execution_count": 42,
     "metadata": {},
     "output_type": "execute_result"
    },
    {
     "data": {
      "image/png": "[encoded data removed]",
      "text/plain": [
       "<Figure size 432x288 with 1 Axes>"
      ]
     },
     "metadata": {
      "needs_background": "light"
     },
     "output_type": "display_data"
    }
   ],
   "source": [
    "df = pd.DataFrame(logs2)\n",
    "dk = filter_k(df,6).groupby([\"n\"]).mean()\n",
    "dk = df.groupby([\"n\"]).mean().reset_index()\n",
    "sns.lineplot(x=\"n\", y=\"time\",data=dk)"
   ]
  },
  {
   "cell_type": "markdown",
   "metadata": {},
   "source": [
    "La courbe est bien d'allule polynomiale, nous allons passer a l'échelle log-log pour s'en assurer."
   ]
  },
  {
   "cell_type": "code",
   "execution_count": 43,
   "metadata": {},
   "outputs": [],
   "source": [
    "dk[\"time\"] = dk[\"time\"].apply(np.log)\n",
    "dk[\"n\"] = dk[\"n\"].apply(np.log)"
   ]
  },
  {
   "cell_type": "code",
   "execution_count": 44,
   "metadata": {},
   "outputs": [
    {
     "data": {
      "text/plain": [
       "<matplotlib.axes._subplots.AxesSubplot at 0x7fd34d6be650>"
      ]
     },
     "execution_count": 44,
     "metadata": {},
     "output_type": "execute_result"
    },
    {
     "data": {
      "image/png": "[encoded data removed]",
      "text/plain": [
       "<Figure size 432x288 with 1 Axes>"
      ]
     },
     "metadata": {
      "needs_background": "light"
     },
     "output_type": "display_data"
    }
   ],
   "source": [
    "sns.lineplot(x=\"n\", y=\"time\",data=dk)"
   ]
  },
  {
   "cell_type": "markdown",
   "metadata": {},
   "source": [
    "Le passage a l'echelle log-log donne une droite ce qui prouve que la complexité est bien polynomiale, a présent nous allons faire une regression linéaire afin de vérifier que la complexité est quasiment un $O(n^3)$."
   ]
  },
  {
   "cell_type": "code",
   "execution_count": 45,
   "metadata": {},
   "outputs": [
    {
     "data": {
      "text/plain": [
       "array([2.89947753, 9.8658231 ])"
      ]
     },
     "execution_count": 45,
     "metadata": {},
     "output_type": "execute_result"
    }
   ],
   "source": [
    "v = np.polyfit(dk.n.values, dk.time.values, 1)\n",
    "v"
   ]
  },
  {
   "cell_type": "markdown",
   "metadata": {},
   "source": [
    "La pente de la droite de regression est quasiment de 3 ce qui prouve que la complexité avoisine un $O(n^3)$, nous constatons cependant un coefficient très élévé qui dénote quelques surcoût probablements lié a l'utilisation de boucles et du paradigme orienté objet. "
   ]
  },
  {
   "cell_type": "markdown",
   "metadata": {},
   "source": [
    "## Procédure en deux temps\n",
    "\n",
    "### Démonstration\n",
    "\n",
    "#### Analyse convexe\n",
    "\n",
    "Pour $y_1$ et $y_2$ fixés l'ensemble $S = \\{ y_1 \\alpha  + y_2 (1-\\alpha) , \\alpha \\in [ \\alpha_{min}, \\alpha_{max} ] \\} $ est un ensemble convexe.\n",
    "\n",
    "En vertu de la décomposition de Minowski $$S = \\{ \\lambda e_1 + (1-\\lambda) e_2 | e_1,e_2 \\in Extr(S); \\lambda \\in [0,1] \\}$$\n",
    "\n",
    "Donc $$ max(x | x \\in S) = max(x | x = \\lambda e_1 + (1-\\lambda) e_2) = max_{x \\in \\{e_1 , e_2\\}}(x)  $$\n",
    "\n",
    "Car le maximum d'une fonction linéaire sur un ensemble convexe compacte est toujours un point extrème de l'espace et que la fonction identité est une fonction linéaire.\n",
    "\n",
    "Donc $x^* = e_1$ ou $x^* = e_2$.\n",
    "\n",
    "#### Argument géométrique\n",
    "\n",
    "Prenons un point au hasard , fixons $\\alpha_{min}$, $\\alpha_{max}$ et essayons d'afficher l'ensemble des points S."
   ]
  },
  {
   "cell_type": "code",
   "execution_count": 46,
   "metadata": {},
   "outputs": [
    {
     "data": {
      "text/plain": [
       "array([[307,  58,   5,  21,  55,  22, 126,  33,  70, 264],\n",
       "       [ 29,  60,  28,  26,  32,   6, 123, 133,   8,  43]])"
      ]
     },
     "execution_count": 46,
     "metadata": {},
     "output_type": "execute_result"
    }
   ],
   "source": [
    "c = get_random_cost(10)\n",
    "c"
   ]
  },
  {
   "cell_type": "code",
   "execution_count": 47,
   "metadata": {},
   "outputs": [
    {
     "data": {
      "text/plain": [
       "array([58, 60])"
      ]
     },
     "execution_count": 47,
     "metadata": {},
     "output_type": "execute_result"
    }
   ],
   "source": [
    "y = c.T[1]\n",
    "y"
   ]
  },
  {
   "cell_type": "code",
   "execution_count": 48,
   "metadata": {},
   "outputs": [
    {
     "data": {
      "text/plain": [
       "<matplotlib.collections.PathCollection at 0x7fd34d4ff650>"
      ]
     },
     "execution_count": 48,
     "metadata": {},
     "output_type": "execute_result"
    },
    {
     "data": {
      "image/png": "[encoded data removed]",
      "text/plain": [
       "<Figure size 432x288 with 1 Axes>"
      ]
     },
     "metadata": {
      "needs_background": "light"
     },
     "output_type": "display_data"
    }
   ],
   "source": [
    "alpha_min = 3\n",
    "alpha_max = 6\n",
    "alphas = np.linspace(alpha_min, alpha_max,15) / 10\n",
    "img = lambda alpha,y : alpha*y[0] + (1-alpha)*y[1]\n",
    "\n",
    "for alpha in alphas:\n",
    "    plt.scatter(alpha, img(alpha,y),c = \"b\")\n",
    "    \n",
    "plt.scatter(alphas[-1], img(alphas[-1],y),c = \"g\")\n",
    "plt.scatter(alphas[0], img(alphas[0],y),c = \"r\")\n"
   ]
  },
  {
   "cell_type": "markdown",
   "metadata": {},
   "source": [
    "La solution de max(S) est $max(\\{e_1,e_2\\})$ elle dépend donc du signe de $e_1 - e_2$.\n",
    "\n",
    "$$e_2 - e_1 = y_1 (\\alpha_{max}-\\alpha_{min}) - y_2(\\alpha_{max}-\\alpha_{min}) + y_2 - y_2$$\n",
    "$$ \\equiv e_2 - e_1 = (\\alpha_{max} - \\alpha_{min}) (y_1 - y_2)$$ \n",
    "Comme $\\alpha_{min}$ < $\\alpha_{max}$ on a $$ \\alpha_{max} - \\alpha_{min} > 0$$ donc le signe dépend de la différence $y_1 - y_2$\n",
    "\n",
    "Dans le visuel précédent $y_2 > y_1$ prennons un exemple qui va dans le sens inverse pour appuyer cette remarque"
   ]
  },
  {
   "cell_type": "code",
   "execution_count": 49,
   "metadata": {},
   "outputs": [
    {
     "data": {
      "text/plain": [
       "array([307,  29])"
      ]
     },
     "execution_count": 49,
     "metadata": {},
     "output_type": "execute_result"
    }
   ],
   "source": [
    "y = c.T[0]\n",
    "y"
   ]
  },
  {
   "cell_type": "code",
   "execution_count": 50,
   "metadata": {},
   "outputs": [
    {
     "data": {
      "text/plain": [
       "<matplotlib.collections.PathCollection at 0x7fd34d503fd0>"
      ]
     },
     "execution_count": 50,
     "metadata": {},
     "output_type": "execute_result"
    },
    {
     "data": {
      "image/png": "[encoded data removed]",
      "text/plain": [
       "<Figure size 432x288 with 1 Axes>"
      ]
     },
     "metadata": {
      "needs_background": "light"
     },
     "output_type": "display_data"
    }
   ],
   "source": [
    "alpha_min = 3\n",
    "alpha_max = 6\n",
    "alphas = np.linspace(alpha_min, alpha_max,15) / 10\n",
    "img = lambda alpha,y : alpha*y[0] + (1-alpha)*y[1]\n",
    "\n",
    "for alpha in alphas:\n",
    "    plt.scatter(alpha, img(alpha,y),c = \"b\")\n",
    "    \n",
    "plt.scatter(alphas[-1], img(alphas[-1],y),c = \"g\")\n",
    "plt.scatter(alphas[0], img(alphas[0],y),c = \"r\")"
   ]
  },
  {
   "cell_type": "markdown",
   "metadata": {},
   "source": [
    "Ici comme on le voit $y_2 > y_1$ il est logique que $e_1 > e_2$ et donc que max(S) = $e_1$ ce qu'on constate sur le visuel. "
   ]
  },
  {
   "cell_type": "markdown",
   "metadata": {},
   "source": [
    "#### Formellement \n",
    "\n",
    "Etant donné que S est un segment de droite les points extrèmes sont les extrèmités de ce segment de droite et donc sont les deux points $$e_1 = y_1 \\alpha_{min} + y_2(1-\\alpha_{min})$$, $$e_2 = y_1 \\alpha_{max} + y_2(1-\\alpha_{max})$$\n",
    "\n",
    "A présent prouvons que en effet le maximum de S est atteint en : \n",
    "- $e_1 = y_1 \\alpha_{min} + y_2(1-\\alpha_{min})$ Si $y_2 > y_1$\n",
    "- $e_2 = y_1 \\alpha_{max} + y_2(1-\\alpha_{max})$ Sinon.\n",
    "\n",
    "Pour ce faire montrons que les points atteints en $\\alpha_{min}$ et en $\\alpha_{max}$ sont bien extrèmes dans l'ensemble S :\n",
    "\n",
    "\n",
    "- Considérons deux points $x$ et $z$ tel que : $$\\frac{x+z}{2} = e_1$$\n",
    "Cela implique que $$\\alpha_x y_1 + (1-\\alpha_x)y_2  + \\alpha_z y_1 + (1-\\alpha_z) y_2 = 2 \\alpha_{min} y_1 + (1- \\alpha_{min}) y_2  $$\n",
    "Et donc que $$ \\alpha_x + \\alpha_z = 2 \\alpha_{min} $$ Etant donné que $\\alpha_x \\geq \\alpha_{min}$ par définition on a $2 \\alpha_{min} - \\alpha_{x} \\leq \\alpha_{min}$ et donc $\\alpha_z \\leq \\alpha_{min}$ et comme par construction aussi $\\alpha_z \\geq \\alpha_{min}$ on a finalement $\\alpha_{min} = \\alpha_{x} = \\alpha_{z} $ i.e $x = z = e_1$ \n",
    "\n",
    "- a présent Considérons deux points $x$ et $z$ tel que : $$\\frac{x+z}{2} = e_2$$\n",
    "Cela implique que $$\\alpha_x y_1 + (1-\\alpha_x)y_2  + \\alpha_z y_1 + (1-\\alpha_z) y_2 = 2 \\alpha_{max} y_1 + (1- \\alpha_{max}) y_2  $$\n",
    "Et donc que $$ \\alpha_x + \\alpha_z = 2 \\alpha_{max} $$ Etant donné que $\\alpha_x \\leq \\alpha_{max}$ par définition on a $2 \\alpha_{max} - \\alpha_{x} \\geq \\alpha_{max}$ et donc $\\alpha_z \\geq \\alpha_{max}$ et comme par construction aussi $\\alpha_z \\leq \\alpha_{max}$ on a finalement $\\alpha_{max} = \\alpha_{x} = \\alpha_{z} $ i.e $x = z = e_2$\n",
    "\n",
    "Donc effectivement $e_1$ et $e_2$ sont les points extrèmes de S ce qui conclut la preuve que les maximums de S sont atteints en $\\alpha_{min}$ et $\\alpha_{max}$"
   ]
  },
  {
   "cell_type": "markdown",
   "metadata": {},
   "source": [
    "### Procédure en deux temps\n"
   ]
  },
  {
   "cell_type": "markdown",
   "metadata": {},
   "source": [
    "A présent que nous disposons d'un moyen de générer les sac a dos non dominés au sens de pareto nous pouvons calculer leur image et prend les éléments non dominés."
   ]
  },
  {
   "cell_type": "code",
   "execution_count": 2,
   "metadata": {},
   "outputs": [],
   "source": [
    "n = 20\n",
    "k = 15\n",
    "c = get_random_cost(n)\n"
   ]
  },
  {
   "cell_type": "code",
   "execution_count": 3,
   "metadata": {},
   "outputs": [
    {
     "data": {
      "text/plain": [
       "array([[ 998.,  890.],\n",
       "       [1001.,  883.],\n",
       "       [ 921.,  895.],\n",
       "       [ 882.,  939.],\n",
       "       [ 761., 1055.],\n",
       "       [ 835.,  973.],\n",
       "       [ 748., 1112.],\n",
       "       [ 822., 1030.],\n",
       "       [ 701., 1146.]])"
      ]
     },
     "execution_count": 3,
     "metadata": {},
     "output_type": "execute_result"
    }
   ],
   "source": [
    "sd = dyn().costs\n",
    "bgs = dyn().bags\n",
    "sd"
   ]
  },
  {
   "cell_type": "code",
   "execution_count": 16,
   "metadata": {},
   "outputs": [
    {
     "name": "stdout",
     "output_type": "stream",
     "text": [
      "[1, 3, 5, 7, 8, 10, 11, 13, 14, 15, 16, 17, 18, 19, 20]\n",
      "[1, 2, 3, 5, 7, 8, 11, 13, 14, 15, 16, 17, 18, 19, 20]\n",
      "[1, 2, 3, 5, 7, 8, 10, 11, 13, 15, 16, 17, 18, 19, 20]\n",
      "[1, 2, 3, 5, 7, 8, 10, 11, 13, 14, 15, 16, 17, 18, 19]\n",
      "[1, 2, 3, 5, 6, 7, 8, 10, 11, 13, 15, 16, 17, 18, 19]\n",
      "[1, 2, 3, 4, 5, 7, 8, 10, 11, 13, 15, 16, 17, 18, 19]\n",
      "[1, 2, 3, 5, 6, 7, 8, 10, 11, 13, 14, 15, 17, 18, 19]\n",
      "[1, 2, 3, 4, 5, 7, 8, 10, 11, 13, 14, 15, 17, 18, 19]\n",
      "[1, 2, 3, 4, 5, 6, 7, 8, 10, 11, 13, 15, 17, 18, 19]\n"
     ]
    }
   ],
   "source": [
    "for i in dyn():\n",
    "    print(i)"
   ]
  },
  {
   "cell_type": "code",
   "execution_count": 17,
   "metadata": {},
   "outputs": [],
   "source": []
  },
  {
   "cell_type": "code",
   "execution_count": 18,
   "metadata": {},
   "outputs": [],
   "source": [
    "imgs = []\n",
    "for i in sd:\n",
    "    imgs.append(f(0.15,0.95,i))\n",
    "imgs = np.array(imgs)"
   ]
  },
  {
   "cell_type": "code",
   "execution_count": 19,
   "metadata": {},
   "outputs": [
    {
     "name": "stdout",
     "output_type": "stream",
     "text": [
      "[1, 2, 3, 5, 7, 8, 10, 11, 13, 15, 16, 17, 18, 19, 20]\n"
     ]
    }
   ],
   "source": [
    "print(dyn()[imgs.argmin()])"
   ]
  },
  {
   "cell_type": "code",
   "execution_count": 20,
   "metadata": {},
   "outputs": [],
   "source": [
    "def deux_temps(n,k,c,alpha_min, alpha_max):\n",
    "    dyn,_ = test_dynamic_prog(n,k,c)\n",
    "    \n",
    "    def f(y):\n",
    "        a = alpha_min*y[0] + (1-alpha_min)*y[1]\n",
    "        b = alpha_max*y[0] + (1-alpha_max)*y[1]\n",
    "        return max(a,b)\n",
    "    \n",
    "    imgs = []\n",
    "    for i in sd:\n",
    "        imgs.append(f(i))\n",
    "    imgs = np.array(imgs)\n",
    "    return dyn()[imgs.argmin()]\n",
    "    "
   ]
  },
  {
   "cell_type": "code",
   "execution_count": 34,
   "metadata": {},
   "outputs": [
    {
     "name": "stdout",
     "output_type": "stream",
     "text": [
      "[3, 5, 7, 8, 9]\n"
     ]
    }
   ],
   "source": [
    "n = 10\n",
    "k = 5\n",
    "c = get_random_cost(n)\n",
    "print(deux_temps(n,k,c,0.10,0.90))"
   ]
  },
  {
   "cell_type": "code",
   "execution_count": null,
   "metadata": {},
   "outputs": [],
   "source": []
  }
 ],
 "metadata": {
  "kernelspec": {
   "display_name": "PyCharm (RLLab2)",
   "language": "python",
   "name": "pycharm-fe7a6dad"
  },
  "language_info": {
   "codemirror_mode": {
    "name": "ipython",
    "version": 3
   },
   "file_extension": ".py",
   "mimetype": "text/x-python",
   "name": "python",
   "nbconvert_exporter": "python",
   "pygments_lexer": "ipython3",
   "version": "3.7.4"
  }
 },
 "nbformat": 4,
 "nbformat_minor": 2
}
